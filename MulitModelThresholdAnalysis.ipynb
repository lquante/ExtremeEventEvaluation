{
 "cells": [
  {
   "cell_type": "code",
   "execution_count": 1,
   "metadata": {
    "collapsed": true
   },
   "outputs": [],
   "source": [
    "#TODO: extend to multiple variables \n",
    "\n",
    "# Imports\n",
    "import cartopy\n",
    "import matplotlib.pyplot as plt\n",
    "import matplotlib.colors as clr\n",
    "import numpy as np\n",
    "import iris\n",
    "from iris.analysis import Aggregator\n",
    "import iris.plot as iplt\n",
    "import iris.quickplot as qplt\n",
    "import iris.coord_categorisation\n",
    "from iris.util import rolling_window\n",
    "from ruamel import yaml\n",
    "from tqdm import tqdm\n",
    "from ruamel.yaml import ruamel\n",
    "import warnings\n",
    "\n",
    "import os"
   ]
  },
  {
   "cell_type": "code",
   "execution_count": 2,
   "metadata": {},
   "outputs": [
    {
     "name": "stdout",
     "output_type": "stream",
     "text": [
      "{('gfdl-esm4', 'historical'): ['/p/tmp/quante/snow_simulation_data/isimip3b/20200406_all_models/historical/output_gfdl-esm4_20012010.nc', '/p/tmp/quante/snow_simulation_data/isimip3b/20200406_all_models/historical/output_gfdl-esm4_19811990.nc', '/p/tmp/quante/snow_simulation_data/isimip3b/20200406_all_models/historical/output_gfdl-esm4_19011910.nc', '/p/tmp/quante/snow_simulation_data/isimip3b/20200406_all_models/historical/output_gfdl-esm4_18811890.nc', '/p/tmp/quante/snow_simulation_data/isimip3b/20200406_all_models/historical/output_gfdl-esm4_19511960.nc', '/p/tmp/quante/snow_simulation_data/isimip3b/20200406_all_models/historical/output_gfdl-esm4_18711880.nc', '/p/tmp/quante/snow_simulation_data/isimip3b/20200406_all_models/historical/output_gfdl-esm4_19711980.nc', '/p/tmp/quante/snow_simulation_data/isimip3b/20200406_all_models/historical/output_gfdl-esm4_18911900.nc', '/p/tmp/quante/snow_simulation_data/isimip3b/20200406_all_models/historical/output_gfdl-esm4_18501850.nc', '/p/tmp/quante/snow_simulation_data/isimip3b/20200406_all_models/historical/output_gfdl-esm4_19611970.nc', '/p/tmp/quante/snow_simulation_data/isimip3b/20200406_all_models/historical/output_gfdl-esm4_18611870.nc', '/p/tmp/quante/snow_simulation_data/isimip3b/20200406_all_models/historical/output_gfdl-esm4_19411950.nc', '/p/tmp/quante/snow_simulation_data/isimip3b/20200406_all_models/historical/output_gfdl-esm4_19111920.nc', '/p/tmp/quante/snow_simulation_data/isimip3b/20200406_all_models/historical/output_gfdl-esm4_19311940.nc', '/p/tmp/quante/snow_simulation_data/isimip3b/20200406_all_models/historical/output_gfdl-esm4_18511860.nc', '/p/tmp/quante/snow_simulation_data/isimip3b/20200406_all_models/historical/output_gfdl-esm4_20112014.nc', '/p/tmp/quante/snow_simulation_data/isimip3b/20200406_all_models/historical/output_gfdl-esm4_19211930.nc', '/p/tmp/quante/snow_simulation_data/isimip3b/20200406_all_models/historical/output_gfdl-esm4_19912000.nc'], ('gfdl-esm4', 'ssp126'): ['/p/tmp/quante/snow_simulation_data/isimip3b/20200406_all_models/ssp126/output_gfdl-esm4_20612070.nc', '/p/tmp/quante/snow_simulation_data/isimip3b/20200406_all_models/ssp126/output_gfdl-esm4_20512060.nc', '/p/tmp/quante/snow_simulation_data/isimip3b/20200406_all_models/ssp126/output_gfdl-esm4_20312040.nc', '/p/tmp/quante/snow_simulation_data/isimip3b/20200406_all_models/ssp126/output_gfdl-esm4_20152020.nc', '/p/tmp/quante/snow_simulation_data/isimip3b/20200406_all_models/ssp126/output_gfdl-esm4_20212030.nc', '/p/tmp/quante/snow_simulation_data/isimip3b/20200406_all_models/ssp126/output_gfdl-esm4_20712080.nc', '/p/tmp/quante/snow_simulation_data/isimip3b/20200406_all_models/ssp126/output_gfdl-esm4_20912100.nc', '/p/tmp/quante/snow_simulation_data/isimip3b/20200406_all_models/ssp126/output_gfdl-esm4_20812090.nc', '/p/tmp/quante/snow_simulation_data/isimip3b/20200406_all_models/ssp126/output_gfdl-esm4_20412050.nc'], ('gfdl-esm4', 'ssp370'): ['/p/tmp/quante/snow_simulation_data/isimip3b/20200406_all_models/ssp370/output_gfdl-esm4_20612070.nc', '/p/tmp/quante/snow_simulation_data/isimip3b/20200406_all_models/ssp370/output_gfdl-esm4_20312040.nc', '/p/tmp/quante/snow_simulation_data/isimip3b/20200406_all_models/ssp370/output_gfdl-esm4_20512060.nc', '/p/tmp/quante/snow_simulation_data/isimip3b/20200406_all_models/ssp370/output_gfdl-esm4_20152020.nc', '/p/tmp/quante/snow_simulation_data/isimip3b/20200406_all_models/ssp370/output_gfdl-esm4_20212030.nc', '/p/tmp/quante/snow_simulation_data/isimip3b/20200406_all_models/ssp370/output_gfdl-esm4_20812090.nc', '/p/tmp/quante/snow_simulation_data/isimip3b/20200406_all_models/ssp370/output_gfdl-esm4_20712080.nc', '/p/tmp/quante/snow_simulation_data/isimip3b/20200406_all_models/ssp370/output_gfdl-esm4_20912100.nc', '/p/tmp/quante/snow_simulation_data/isimip3b/20200406_all_models/ssp370/output_gfdl-esm4_20412050.nc'], ('gfdl-esm4', 'ssp585'): ['/p/tmp/quante/snow_simulation_data/isimip3b/20200406_all_models/ssp585/output_gfdl-esm4_20612070.nc', '/p/tmp/quante/snow_simulation_data/isimip3b/20200406_all_models/ssp585/output_gfdl-esm4_20412050.nc', '/p/tmp/quante/snow_simulation_data/isimip3b/20200406_all_models/ssp585/output_gfdl-esm4_20312040.nc', '/p/tmp/quante/snow_simulation_data/isimip3b/20200406_all_models/ssp585/output_gfdl-esm4_20512060.nc', '/p/tmp/quante/snow_simulation_data/isimip3b/20200406_all_models/ssp585/output_gfdl-esm4_20152020.nc', '/p/tmp/quante/snow_simulation_data/isimip3b/20200406_all_models/ssp585/output_gfdl-esm4_20212030.nc', '/p/tmp/quante/snow_simulation_data/isimip3b/20200406_all_models/ssp585/output_gfdl-esm4_20712080.nc', '/p/tmp/quante/snow_simulation_data/isimip3b/20200406_all_models/ssp585/output_gfdl-esm4_20912100.nc', '/p/tmp/quante/snow_simulation_data/isimip3b/20200406_all_models/ssp585/output_gfdl-esm4_20812090.nc'], ('ipsl-cm6a-lr', 'historical'): ['/p/tmp/quante/snow_simulation_data/isimip3b/20200406_all_models/historical/output_ipsl-cm6a-lr_20012010.nc', '/p/tmp/quante/snow_simulation_data/isimip3b/20200406_all_models/historical/output_ipsl-cm6a-lr_19811990.nc', '/p/tmp/quante/snow_simulation_data/isimip3b/20200406_all_models/historical/output_ipsl-cm6a-lr_19011910.nc', '/p/tmp/quante/snow_simulation_data/isimip3b/20200406_all_models/historical/output_ipsl-cm6a-lr_18811890.nc', '/p/tmp/quante/snow_simulation_data/isimip3b/20200406_all_models/historical/output_ipsl-cm6a-lr_19511960.nc', '/p/tmp/quante/snow_simulation_data/isimip3b/20200406_all_models/historical/output_ipsl-cm6a-lr_18711880.nc', '/p/tmp/quante/snow_simulation_data/isimip3b/20200406_all_models/historical/output_ipsl-cm6a-lr_19711980.nc', '/p/tmp/quante/snow_simulation_data/isimip3b/20200406_all_models/historical/output_ipsl-cm6a-lr_18911900.nc', '/p/tmp/quante/snow_simulation_data/isimip3b/20200406_all_models/historical/output_ipsl-cm6a-lr_18501850.nc', '/p/tmp/quante/snow_simulation_data/isimip3b/20200406_all_models/historical/output_ipsl-cm6a-lr_19611970.nc', '/p/tmp/quante/snow_simulation_data/isimip3b/20200406_all_models/historical/output_ipsl-cm6a-lr_18611870.nc', '/p/tmp/quante/snow_simulation_data/isimip3b/20200406_all_models/historical/output_ipsl-cm6a-lr_19411950.nc', '/p/tmp/quante/snow_simulation_data/isimip3b/20200406_all_models/historical/output_ipsl-cm6a-lr_19111920.nc', '/p/tmp/quante/snow_simulation_data/isimip3b/20200406_all_models/historical/output_ipsl-cm6a-lr_19311940.nc', '/p/tmp/quante/snow_simulation_data/isimip3b/20200406_all_models/historical/output_ipsl-cm6a-lr_18511860.nc', '/p/tmp/quante/snow_simulation_data/isimip3b/20200406_all_models/historical/output_ipsl-cm6a-lr_20112014.nc', '/p/tmp/quante/snow_simulation_data/isimip3b/20200406_all_models/historical/output_ipsl-cm6a-lr_19211930.nc', '/p/tmp/quante/snow_simulation_data/isimip3b/20200406_all_models/historical/output_ipsl-cm6a-lr_19912000.nc'], ('ipsl-cm6a-lr', 'ssp126'): ['/p/tmp/quante/snow_simulation_data/isimip3b/20200406_all_models/ssp126/output_ipsl-cm6a-lr_20612070.nc', '/p/tmp/quante/snow_simulation_data/isimip3b/20200406_all_models/ssp126/output_ipsl-cm6a-lr_20512060.nc', '/p/tmp/quante/snow_simulation_data/isimip3b/20200406_all_models/ssp126/output_ipsl-cm6a-lr_20312040.nc', '/p/tmp/quante/snow_simulation_data/isimip3b/20200406_all_models/ssp126/output_ipsl-cm6a-lr_20152020.nc', '/p/tmp/quante/snow_simulation_data/isimip3b/20200406_all_models/ssp126/output_ipsl-cm6a-lr_20212030.nc', '/p/tmp/quante/snow_simulation_data/isimip3b/20200406_all_models/ssp126/output_ipsl-cm6a-lr_20712080.nc', '/p/tmp/quante/snow_simulation_data/isimip3b/20200406_all_models/ssp126/output_ipsl-cm6a-lr_20912100.nc', '/p/tmp/quante/snow_simulation_data/isimip3b/20200406_all_models/ssp126/output_ipsl-cm6a-lr_20812090.nc', '/p/tmp/quante/snow_simulation_data/isimip3b/20200406_all_models/ssp126/output_ipsl-cm6a-lr_20412050.nc'], ('ipsl-cm6a-lr', 'ssp370'): ['/p/tmp/quante/snow_simulation_data/isimip3b/20200406_all_models/ssp370/output_ipsl-cm6a-lr_20612070.nc', '/p/tmp/quante/snow_simulation_data/isimip3b/20200406_all_models/ssp370/output_ipsl-cm6a-lr_20312040.nc', '/p/tmp/quante/snow_simulation_data/isimip3b/20200406_all_models/ssp370/output_ipsl-cm6a-lr_20512060.nc', '/p/tmp/quante/snow_simulation_data/isimip3b/20200406_all_models/ssp370/output_ipsl-cm6a-lr_20152020.nc', '/p/tmp/quante/snow_simulation_data/isimip3b/20200406_all_models/ssp370/output_ipsl-cm6a-lr_20212030.nc', '/p/tmp/quante/snow_simulation_data/isimip3b/20200406_all_models/ssp370/output_ipsl-cm6a-lr_20812090.nc', '/p/tmp/quante/snow_simulation_data/isimip3b/20200406_all_models/ssp370/output_ipsl-cm6a-lr_20712080.nc', '/p/tmp/quante/snow_simulation_data/isimip3b/20200406_all_models/ssp370/output_ipsl-cm6a-lr_20912100.nc', '/p/tmp/quante/snow_simulation_data/isimip3b/20200406_all_models/ssp370/output_ipsl-cm6a-lr_20412050.nc'], ('ipsl-cm6a-lr', 'ssp585'): ['/p/tmp/quante/snow_simulation_data/isimip3b/20200406_all_models/ssp585/output_ipsl-cm6a-lr_20612070.nc', '/p/tmp/quante/snow_simulation_data/isimip3b/20200406_all_models/ssp585/output_ipsl-cm6a-lr_20412050.nc', '/p/tmp/quante/snow_simulation_data/isimip3b/20200406_all_models/ssp585/output_ipsl-cm6a-lr_20312040.nc', '/p/tmp/quante/snow_simulation_data/isimip3b/20200406_all_models/ssp585/output_ipsl-cm6a-lr_20512060.nc', '/p/tmp/quante/snow_simulation_data/isimip3b/20200406_all_models/ssp585/output_ipsl-cm6a-lr_20152020.nc', '/p/tmp/quante/snow_simulation_data/isimip3b/20200406_all_models/ssp585/output_ipsl-cm6a-lr_20212030.nc', '/p/tmp/quante/snow_simulation_data/isimip3b/20200406_all_models/ssp585/output_ipsl-cm6a-lr_20712080.nc', '/p/tmp/quante/snow_simulation_data/isimip3b/20200406_all_models/ssp585/output_ipsl-cm6a-lr_20912100.nc', '/p/tmp/quante/snow_simulation_data/isimip3b/20200406_all_models/ssp585/output_ipsl-cm6a-lr_20812090.nc'], ('mpi-esm1-2-hr', 'historical'): ['/p/tmp/quante/snow_simulation_data/isimip3b/20200406_all_models/historical/output_mpi-esm1-2-hr_20012010.nc', '/p/tmp/quante/snow_simulation_data/isimip3b/20200406_all_models/historical/output_mpi-esm1-2-hr_19811990.nc', '/p/tmp/quante/snow_simulation_data/isimip3b/20200406_all_models/historical/output_mpi-esm1-2-hr_19011910.nc', '/p/tmp/quante/snow_simulation_data/isimip3b/20200406_all_models/historical/output_mpi-esm1-2-hr_18811890.nc', '/p/tmp/quante/snow_simulation_data/isimip3b/20200406_all_models/historical/output_mpi-esm1-2-hr_19511960.nc', '/p/tmp/quante/snow_simulation_data/isimip3b/20200406_all_models/historical/output_mpi-esm1-2-hr_18711880.nc', '/p/tmp/quante/snow_simulation_data/isimip3b/20200406_all_models/historical/output_mpi-esm1-2-hr_19711980.nc', '/p/tmp/quante/snow_simulation_data/isimip3b/20200406_all_models/historical/output_mpi-esm1-2-hr_18911900.nc', '/p/tmp/quante/snow_simulation_data/isimip3b/20200406_all_models/historical/output_mpi-esm1-2-hr_18501850.nc', '/p/tmp/quante/snow_simulation_data/isimip3b/20200406_all_models/historical/output_mpi-esm1-2-hr_19611970.nc', '/p/tmp/quante/snow_simulation_data/isimip3b/20200406_all_models/historical/output_mpi-esm1-2-hr_18611870.nc', '/p/tmp/quante/snow_simulation_data/isimip3b/20200406_all_models/historical/output_mpi-esm1-2-hr_19411950.nc', '/p/tmp/quante/snow_simulation_data/isimip3b/20200406_all_models/historical/output_mpi-esm1-2-hr_19111920.nc', '/p/tmp/quante/snow_simulation_data/isimip3b/20200406_all_models/historical/output_mpi-esm1-2-hr_19311940.nc', '/p/tmp/quante/snow_simulation_data/isimip3b/20200406_all_models/historical/output_mpi-esm1-2-hr_18511860.nc', '/p/tmp/quante/snow_simulation_data/isimip3b/20200406_all_models/historical/output_mpi-esm1-2-hr_20112014.nc', '/p/tmp/quante/snow_simulation_data/isimip3b/20200406_all_models/historical/output_mpi-esm1-2-hr_19211930.nc', '/p/tmp/quante/snow_simulation_data/isimip3b/20200406_all_models/historical/output_mpi-esm1-2-hr_19912000.nc'], ('mpi-esm1-2-hr', 'ssp126'): ['/p/tmp/quante/snow_simulation_data/isimip3b/20200406_all_models/ssp126/output_mpi-esm1-2-hr_20612070.nc', '/p/tmp/quante/snow_simulation_data/isimip3b/20200406_all_models/ssp126/output_mpi-esm1-2-hr_20512060.nc', '/p/tmp/quante/snow_simulation_data/isimip3b/20200406_all_models/ssp126/output_mpi-esm1-2-hr_20312040.nc', '/p/tmp/quante/snow_simulation_data/isimip3b/20200406_all_models/ssp126/output_mpi-esm1-2-hr_20152020.nc', '/p/tmp/quante/snow_simulation_data/isimip3b/20200406_all_models/ssp126/output_mpi-esm1-2-hr_20212030.nc', '/p/tmp/quante/snow_simulation_data/isimip3b/20200406_all_models/ssp126/output_mpi-esm1-2-hr_20712080.nc', '/p/tmp/quante/snow_simulation_data/isimip3b/20200406_all_models/ssp126/output_mpi-esm1-2-hr_20912100.nc', '/p/tmp/quante/snow_simulation_data/isimip3b/20200406_all_models/ssp126/output_mpi-esm1-2-hr_20812090.nc', '/p/tmp/quante/snow_simulation_data/isimip3b/20200406_all_models/ssp126/output_mpi-esm1-2-hr_20412050.nc'], ('mpi-esm1-2-hr', 'ssp370'): ['/p/tmp/quante/snow_simulation_data/isimip3b/20200406_all_models/ssp370/output_mpi-esm1-2-hr_20612070.nc', '/p/tmp/quante/snow_simulation_data/isimip3b/20200406_all_models/ssp370/output_mpi-esm1-2-hr_20312040.nc', '/p/tmp/quante/snow_simulation_data/isimip3b/20200406_all_models/ssp370/output_mpi-esm1-2-hr_20512060.nc', '/p/tmp/quante/snow_simulation_data/isimip3b/20200406_all_models/ssp370/output_mpi-esm1-2-hr_20152020.nc', '/p/tmp/quante/snow_simulation_data/isimip3b/20200406_all_models/ssp370/output_mpi-esm1-2-hr_20212030.nc', '/p/tmp/quante/snow_simulation_data/isimip3b/20200406_all_models/ssp370/output_mpi-esm1-2-hr_20812090.nc', '/p/tmp/quante/snow_simulation_data/isimip3b/20200406_all_models/ssp370/output_mpi-esm1-2-hr_20712080.nc', '/p/tmp/quante/snow_simulation_data/isimip3b/20200406_all_models/ssp370/output_mpi-esm1-2-hr_20912100.nc', '/p/tmp/quante/snow_simulation_data/isimip3b/20200406_all_models/ssp370/output_mpi-esm1-2-hr_20412050.nc'], ('mpi-esm1-2-hr', 'ssp585'): ['/p/tmp/quante/snow_simulation_data/isimip3b/20200406_all_models/ssp585/output_mpi-esm1-2-hr_20612070.nc', '/p/tmp/quante/snow_simulation_data/isimip3b/20200406_all_models/ssp585/output_mpi-esm1-2-hr_20412050.nc', '/p/tmp/quante/snow_simulation_data/isimip3b/20200406_all_models/ssp585/output_mpi-esm1-2-hr_20312040.nc', '/p/tmp/quante/snow_simulation_data/isimip3b/20200406_all_models/ssp585/output_mpi-esm1-2-hr_20512060.nc', '/p/tmp/quante/snow_simulation_data/isimip3b/20200406_all_models/ssp585/output_mpi-esm1-2-hr_20152020.nc', '/p/tmp/quante/snow_simulation_data/isimip3b/20200406_all_models/ssp585/output_mpi-esm1-2-hr_20212030.nc', '/p/tmp/quante/snow_simulation_data/isimip3b/20200406_all_models/ssp585/output_mpi-esm1-2-hr_20712080.nc', '/p/tmp/quante/snow_simulation_data/isimip3b/20200406_all_models/ssp585/output_mpi-esm1-2-hr_20912100.nc', '/p/tmp/quante/snow_simulation_data/isimip3b/20200406_all_models/ssp585/output_mpi-esm1-2-hr_20812090.nc'], ('mri-esm2-0', 'historical'): ['/p/tmp/quante/snow_simulation_data/isimip3b/20200406_all_models/historical/output_mri-esm2-0_20012010.nc', '/p/tmp/quante/snow_simulation_data/isimip3b/20200406_all_models/historical/output_mri-esm2-0_19811990.nc', '/p/tmp/quante/snow_simulation_data/isimip3b/20200406_all_models/historical/output_mri-esm2-0_19011910.nc', '/p/tmp/quante/snow_simulation_data/isimip3b/20200406_all_models/historical/output_mri-esm2-0_18811890.nc', '/p/tmp/quante/snow_simulation_data/isimip3b/20200406_all_models/historical/output_mri-esm2-0_19511960.nc', '/p/tmp/quante/snow_simulation_data/isimip3b/20200406_all_models/historical/output_mri-esm2-0_18711880.nc', '/p/tmp/quante/snow_simulation_data/isimip3b/20200406_all_models/historical/output_mri-esm2-0_19711980.nc', '/p/tmp/quante/snow_simulation_data/isimip3b/20200406_all_models/historical/output_mri-esm2-0_18911900.nc', '/p/tmp/quante/snow_simulation_data/isimip3b/20200406_all_models/historical/output_mri-esm2-0_18501850.nc', '/p/tmp/quante/snow_simulation_data/isimip3b/20200406_all_models/historical/output_mri-esm2-0_19611970.nc', '/p/tmp/quante/snow_simulation_data/isimip3b/20200406_all_models/historical/output_mri-esm2-0_18611870.nc', '/p/tmp/quante/snow_simulation_data/isimip3b/20200406_all_models/historical/output_mri-esm2-0_19411950.nc', '/p/tmp/quante/snow_simulation_data/isimip3b/20200406_all_models/historical/output_mri-esm2-0_19111920.nc', '/p/tmp/quante/snow_simulation_data/isimip3b/20200406_all_models/historical/output_mri-esm2-0_19311940.nc', '/p/tmp/quante/snow_simulation_data/isimip3b/20200406_all_models/historical/output_mri-esm2-0_18511860.nc', '/p/tmp/quante/snow_simulation_data/isimip3b/20200406_all_models/historical/output_mri-esm2-0_20112014.nc', '/p/tmp/quante/snow_simulation_data/isimip3b/20200406_all_models/historical/output_mri-esm2-0_19211930.nc', '/p/tmp/quante/snow_simulation_data/isimip3b/20200406_all_models/historical/output_mri-esm2-0_19912000.nc'], ('mri-esm2-0', 'ssp126'): ['/p/tmp/quante/snow_simulation_data/isimip3b/20200406_all_models/ssp126/output_mri-esm2-0_20612070.nc', '/p/tmp/quante/snow_simulation_data/isimip3b/20200406_all_models/ssp126/output_mri-esm2-0_20512060.nc', '/p/tmp/quante/snow_simulation_data/isimip3b/20200406_all_models/ssp126/output_mri-esm2-0_20312040.nc', '/p/tmp/quante/snow_simulation_data/isimip3b/20200406_all_models/ssp126/output_mri-esm2-0_20152020.nc', '/p/tmp/quante/snow_simulation_data/isimip3b/20200406_all_models/ssp126/output_mri-esm2-0_20212030.nc', '/p/tmp/quante/snow_simulation_data/isimip3b/20200406_all_models/ssp126/output_mri-esm2-0_20712080.nc', '/p/tmp/quante/snow_simulation_data/isimip3b/20200406_all_models/ssp126/output_mri-esm2-0_20912100.nc', '/p/tmp/quante/snow_simulation_data/isimip3b/20200406_all_models/ssp126/output_mri-esm2-0_20812090.nc', '/p/tmp/quante/snow_simulation_data/isimip3b/20200406_all_models/ssp126/output_mri-esm2-0_20412050.nc'], ('mri-esm2-0', 'ssp370'): ['/p/tmp/quante/snow_simulation_data/isimip3b/20200406_all_models/ssp370/output_mri-esm2-0_20612070.nc', '/p/tmp/quante/snow_simulation_data/isimip3b/20200406_all_models/ssp370/output_mri-esm2-0_20312040.nc', '/p/tmp/quante/snow_simulation_data/isimip3b/20200406_all_models/ssp370/output_mri-esm2-0_20512060.nc', '/p/tmp/quante/snow_simulation_data/isimip3b/20200406_all_models/ssp370/output_mri-esm2-0_20152020.nc', '/p/tmp/quante/snow_simulation_data/isimip3b/20200406_all_models/ssp370/output_mri-esm2-0_20212030.nc', '/p/tmp/quante/snow_simulation_data/isimip3b/20200406_all_models/ssp370/output_mri-esm2-0_20812090.nc', '/p/tmp/quante/snow_simulation_data/isimip3b/20200406_all_models/ssp370/output_mri-esm2-0_20712080.nc', '/p/tmp/quante/snow_simulation_data/isimip3b/20200406_all_models/ssp370/output_mri-esm2-0_20912100.nc', '/p/tmp/quante/snow_simulation_data/isimip3b/20200406_all_models/ssp370/output_mri-esm2-0_20412050.nc'], ('mri-esm2-0', 'ssp585'): ['/p/tmp/quante/snow_simulation_data/isimip3b/20200406_all_models/ssp585/output_mri-esm2-0_20612070.nc', '/p/tmp/quante/snow_simulation_data/isimip3b/20200406_all_models/ssp585/output_mri-esm2-0_20412050.nc', '/p/tmp/quante/snow_simulation_data/isimip3b/20200406_all_models/ssp585/output_mri-esm2-0_20312040.nc', '/p/tmp/quante/snow_simulation_data/isimip3b/20200406_all_models/ssp585/output_mri-esm2-0_20512060.nc', '/p/tmp/quante/snow_simulation_data/isimip3b/20200406_all_models/ssp585/output_mri-esm2-0_20152020.nc', '/p/tmp/quante/snow_simulation_data/isimip3b/20200406_all_models/ssp585/output_mri-esm2-0_20212030.nc', '/p/tmp/quante/snow_simulation_data/isimip3b/20200406_all_models/ssp585/output_mri-esm2-0_20712080.nc', '/p/tmp/quante/snow_simulation_data/isimip3b/20200406_all_models/ssp585/output_mri-esm2-0_20912100.nc', '/p/tmp/quante/snow_simulation_data/isimip3b/20200406_all_models/ssp585/output_mri-esm2-0_20812090.nc'], ('ukesm1-0-ll', 'historical'): ['/p/tmp/quante/snow_simulation_data/isimip3b/20200406_all_models/historical/output_ukesm1-0-ll_20012010.nc', '/p/tmp/quante/snow_simulation_data/isimip3b/20200406_all_models/historical/output_ukesm1-0-ll_19811990.nc', '/p/tmp/quante/snow_simulation_data/isimip3b/20200406_all_models/historical/output_ukesm1-0-ll_19011910.nc', '/p/tmp/quante/snow_simulation_data/isimip3b/20200406_all_models/historical/output_ukesm1-0-ll_18811890.nc', '/p/tmp/quante/snow_simulation_data/isimip3b/20200406_all_models/historical/output_ukesm1-0-ll_19511960.nc', '/p/tmp/quante/snow_simulation_data/isimip3b/20200406_all_models/historical/output_ukesm1-0-ll_18711880.nc', '/p/tmp/quante/snow_simulation_data/isimip3b/20200406_all_models/historical/output_ukesm1-0-ll_19711980.nc', '/p/tmp/quante/snow_simulation_data/isimip3b/20200406_all_models/historical/output_ukesm1-0-ll_18911900.nc', '/p/tmp/quante/snow_simulation_data/isimip3b/20200406_all_models/historical/output_ukesm1-0-ll_18501850.nc', '/p/tmp/quante/snow_simulation_data/isimip3b/20200406_all_models/historical/output_ukesm1-0-ll_19611970.nc', '/p/tmp/quante/snow_simulation_data/isimip3b/20200406_all_models/historical/output_ukesm1-0-ll_18611870.nc', '/p/tmp/quante/snow_simulation_data/isimip3b/20200406_all_models/historical/output_ukesm1-0-ll_19411950.nc', '/p/tmp/quante/snow_simulation_data/isimip3b/20200406_all_models/historical/output_ukesm1-0-ll_19111920.nc', '/p/tmp/quante/snow_simulation_data/isimip3b/20200406_all_models/historical/output_ukesm1-0-ll_19311940.nc', '/p/tmp/quante/snow_simulation_data/isimip3b/20200406_all_models/historical/output_ukesm1-0-ll_18511860.nc', '/p/tmp/quante/snow_simulation_data/isimip3b/20200406_all_models/historical/output_ukesm1-0-ll_20112014.nc', '/p/tmp/quante/snow_simulation_data/isimip3b/20200406_all_models/historical/output_ukesm1-0-ll_19211930.nc', '/p/tmp/quante/snow_simulation_data/isimip3b/20200406_all_models/historical/output_ukesm1-0-ll_19912000.nc'], ('ukesm1-0-ll', 'ssp126'): ['/p/tmp/quante/snow_simulation_data/isimip3b/20200406_all_models/ssp126/output_ukesm1-0-ll_20612070.nc', '/p/tmp/quante/snow_simulation_data/isimip3b/20200406_all_models/ssp126/output_ukesm1-0-ll_20512060.nc', '/p/tmp/quante/snow_simulation_data/isimip3b/20200406_all_models/ssp126/output_ukesm1-0-ll_20312040.nc', '/p/tmp/quante/snow_simulation_data/isimip3b/20200406_all_models/ssp126/output_ukesm1-0-ll_20152020.nc', '/p/tmp/quante/snow_simulation_data/isimip3b/20200406_all_models/ssp126/output_ukesm1-0-ll_20212030.nc', '/p/tmp/quante/snow_simulation_data/isimip3b/20200406_all_models/ssp126/output_ukesm1-0-ll_20712080.nc', '/p/tmp/quante/snow_simulation_data/isimip3b/20200406_all_models/ssp126/output_ukesm1-0-ll_20912100.nc', '/p/tmp/quante/snow_simulation_data/isimip3b/20200406_all_models/ssp126/output_ukesm1-0-ll_20812090.nc', '/p/tmp/quante/snow_simulation_data/isimip3b/20200406_all_models/ssp126/output_ukesm1-0-ll_20412050.nc'], ('ukesm1-0-ll', 'ssp370'): ['/p/tmp/quante/snow_simulation_data/isimip3b/20200406_all_models/ssp370/output_ukesm1-0-ll_20612070.nc', '/p/tmp/quante/snow_simulation_data/isimip3b/20200406_all_models/ssp370/output_ukesm1-0-ll_20312040.nc', '/p/tmp/quante/snow_simulation_data/isimip3b/20200406_all_models/ssp370/output_ukesm1-0-ll_20512060.nc', '/p/tmp/quante/snow_simulation_data/isimip3b/20200406_all_models/ssp370/output_ukesm1-0-ll_20152020.nc', '/p/tmp/quante/snow_simulation_data/isimip3b/20200406_all_models/ssp370/output_ukesm1-0-ll_20212030.nc', '/p/tmp/quante/snow_simulation_data/isimip3b/20200406_all_models/ssp370/output_ukesm1-0-ll_20812090.nc', '/p/tmp/quante/snow_simulation_data/isimip3b/20200406_all_models/ssp370/output_ukesm1-0-ll_20712080.nc', '/p/tmp/quante/snow_simulation_data/isimip3b/20200406_all_models/ssp370/output_ukesm1-0-ll_20912100.nc', '/p/tmp/quante/snow_simulation_data/isimip3b/20200406_all_models/ssp370/output_ukesm1-0-ll_20412050.nc'], ('ukesm1-0-ll', 'ssp585'): ['/p/tmp/quante/snow_simulation_data/isimip3b/20200406_all_models/ssp585/output_ukesm1-0-ll_20612070.nc', '/p/tmp/quante/snow_simulation_data/isimip3b/20200406_all_models/ssp585/output_ukesm1-0-ll_20412050.nc', '/p/tmp/quante/snow_simulation_data/isimip3b/20200406_all_models/ssp585/output_ukesm1-0-ll_20312040.nc', '/p/tmp/quante/snow_simulation_data/isimip3b/20200406_all_models/ssp585/output_ukesm1-0-ll_20512060.nc', '/p/tmp/quante/snow_simulation_data/isimip3b/20200406_all_models/ssp585/output_ukesm1-0-ll_20152020.nc', '/p/tmp/quante/snow_simulation_data/isimip3b/20200406_all_models/ssp585/output_ukesm1-0-ll_20212030.nc', '/p/tmp/quante/snow_simulation_data/isimip3b/20200406_all_models/ssp585/output_ukesm1-0-ll_20712080.nc', '/p/tmp/quante/snow_simulation_data/isimip3b/20200406_all_models/ssp585/output_ukesm1-0-ll_20912100.nc', '/p/tmp/quante/snow_simulation_data/isimip3b/20200406_all_models/ssp585/output_ukesm1-0-ll_20812090.nc']}\n"
     ]
    }
   ],
   "source": [
    "# test for multi model execution, 5 first tier ISIMIP models:\n",
    "\n",
    "def filepath_generator(basepath,scenario,model):\n",
    "    return basepath+'/'+scenario+'/output/data_'+model+'.yml'\n",
    "\n",
    "modellist = [\n",
    "'gfdl-esm4',\n",
    "'ipsl-cm6a-lr',\n",
    "'mpi-esm1-2-hr',\n",
    "'mri-esm2-0',\n",
    "'ukesm1-0-ll']\n",
    "basepath = '/p/tmp/quante/snow_simulation_data/isimip3b/20200406_all_models/'\n",
    "data_dictionary = {}\n",
    "for i_model in modellist:\n",
    "    data_dictionary [i_model,'historical']= filepath_generator(basepath,'historical',i_model)\n",
    "    data_dictionary [i_model,'ssp126']= filepath_generator(basepath,'ssp126',i_model)\n",
    "    data_dictionary [i_model,'ssp370']= filepath_generator(basepath,'ssp370',i_model)\n",
    "    data_dictionary [i_model,'ssp585']= filepath_generator(basepath,'ssp585',i_model)\n",
    "\n",
    "\n",
    "# generate dictionary of  data [model,scenario]\n",
    "\n",
    "# get all keys from dictionary\n",
    "data_keys = data_dictionary.keys()\n",
    "filepaths = {}\n",
    "for i_key in data_keys:\n",
    "    with open(data_dictionary[i_key], 'r') as stream:\n",
    "            try:\n",
    "                filepaths[i_key] = yaml.safe_load(stream)\n",
    "            except yaml.YAMLError as exc:\n",
    "                print(exc)\n",
    "print(filepaths)"
   ]
  },
  {
   "cell_type": "code",
   "execution_count": 3,
   "metadata": {
    "collapsed": true
   },
   "outputs": [],
   "source": [
    "\n",
    "# functions to filter for specific variables, add seasons etc\n",
    "\n",
    "def filter_cube (cube,variablename):\n",
    "    return cube.extract(variablename)\n",
    "   \n",
    "# constrain cubelists\n",
    "\n",
    "def latitude_constraint(latitude,cube):\n",
    "    # restrict on latitudes above northern tropic\n",
    "    latitudeConstraint = iris.Constraint(latitude=lambda v: latitude <= v)\n",
    "    return cube.extract(latitudeConstraint)\n",
    "\n",
    "def add_seasons (cubelist):\n",
    "    for i_cube in cubelist:\n",
    "        iris.coord_categorisation.add_season(i_cube, 'time', name='season')\n",
    "        iris.coord_categorisation.add_season_year(i_cube, 'time', name='season_year')\n",
    "    return cubelist\n",
    "\n",
    "# concatenate all cubes by time\n",
    "from iris.util import unify_time_units\n",
    "from iris.experimental.equalise_cubes import equalise_attributes \n",
    "def unify_concatenate(cubelist):\n",
    "    unify_time_units(cubelist)\n",
    "    equalise_attributes(cubelist)\n",
    "    \n",
    "    return cubelist.concatenate_cube()  \n",
    "\n",
    "# add area bounds to enable area weighted mean:\n",
    "def add_lon_lat_bounds (cube):\n",
    "    cube.coord('latitude').guess_bounds()\n",
    "    cube.coord('longitude').guess_bounds()\n",
    "\n",
    "# filter for specific season\n",
    "def filter_season(cube,season):\n",
    "    season_constr = iris.Constraint(season=season)\n",
    "    return cube.extract(season_constr)\n",
    "        \n",
    "    \n",
    "def prepare_season_stats(cubedict,season):\n",
    "    keys = cubedict.keys()\n",
    "    season_dict = {}\n",
    "    for i_key in keys:\n",
    "        season_cube = filter_season(cubedict[i_key],season)\n",
    "        season_dict [i_key]    = season_cube                                     \n",
    "    return season_dict\n"
   ]
  },
  {
   "cell_type": "code",
   "execution_count": 4,
   "metadata": {},
   "outputs": [
    {
     "name": "stdout",
     "output_type": "stream",
     "text": [
      "('gfdl-esm4', 'historical')\n",
      "0: approx_fresh_daily_snow_height / (1) (time: 365; latitude: 134; longitude: 720)\n",
      "1: approx_fresh_daily_snow_height / (1) (time: 3653; latitude: 134; longitude: 720)\n",
      "2: approx_fresh_daily_snow_height / (1) (time: 3652; latitude: 134; longitude: 720)\n",
      "3: approx_fresh_daily_snow_height / (1) (time: 3653; latitude: 134; longitude: 720)\n",
      "4: approx_fresh_daily_snow_height / (1) (time: 3652; latitude: 134; longitude: 720)\n",
      "5: approx_fresh_daily_snow_height / (1) (time: 3652; latitude: 134; longitude: 720)\n",
      "6: approx_fresh_daily_snow_height / (1) (time: 3652; latitude: 134; longitude: 720)\n",
      "7: approx_fresh_daily_snow_height / (1) (time: 3653; latitude: 134; longitude: 720)\n",
      "8: approx_fresh_daily_snow_height / (1) (time: 3652; latitude: 134; longitude: 720)\n",
      "9: approx_fresh_daily_snow_height / (1) (time: 3653; latitude: 134; longitude: 720)\n",
      "10: approx_fresh_daily_snow_height / (1) (time: 3652; latitude: 134; longitude: 720)\n",
      "11: approx_fresh_daily_snow_height / (1) (time: 3653; latitude: 134; longitude: 720)\n",
      "12: approx_fresh_daily_snow_height / (1) (time: 3652; latitude: 134; longitude: 720)\n",
      "13: approx_fresh_daily_snow_height / (1) (time: 3653; latitude: 134; longitude: 720)\n",
      "14: approx_fresh_daily_snow_height / (1) (time: 3652; latitude: 134; longitude: 720)\n",
      "15: approx_fresh_daily_snow_height / (1) (time: 3653; latitude: 134; longitude: 720)\n",
      "16: approx_fresh_daily_snow_height / (1) (time: 3652; latitude: 134; longitude: 720)\n",
      "17: approx_fresh_daily_snow_height / (1) (time: 1461; latitude: 134; longitude: 720)\n",
      "('gfdl-esm4', 'ssp126')\n",
      "0: approx_fresh_daily_snow_height / (1) (time: 2192; latitude: 134; longitude: 720)\n",
      "1: approx_fresh_daily_snow_height / (1) (time: 3652; latitude: 134; longitude: 720)\n",
      "2: approx_fresh_daily_snow_height / (1) (time: 3653; latitude: 134; longitude: 720)\n",
      "3: approx_fresh_daily_snow_height / (1) (time: 3652; latitude: 134; longitude: 720)\n",
      "4: approx_fresh_daily_snow_height / (1) (time: 3653; latitude: 134; longitude: 720)\n",
      "5: approx_fresh_daily_snow_height / (1) (time: 3652; latitude: 134; longitude: 720)\n",
      "6: approx_fresh_daily_snow_height / (1) (time: 3653; latitude: 134; longitude: 720)\n",
      "7: approx_fresh_daily_snow_height / (1) (time: 3652; latitude: 134; longitude: 720)\n",
      "8: approx_fresh_daily_snow_height / (1) (time: 3652; latitude: 134; longitude: 720)\n",
      "('gfdl-esm4', 'ssp370')\n",
      "0: approx_fresh_daily_snow_height / (1) (time: 2192; latitude: 134; longitude: 720)\n",
      "1: approx_fresh_daily_snow_height / (1) (time: 3652; latitude: 134; longitude: 720)\n",
      "2: approx_fresh_daily_snow_height / (1) (time: 3653; latitude: 134; longitude: 720)\n",
      "3: approx_fresh_daily_snow_height / (1) (time: 3652; latitude: 134; longitude: 720)\n",
      "4: approx_fresh_daily_snow_height / (1) (time: 3653; latitude: 134; longitude: 720)\n",
      "5: approx_fresh_daily_snow_height / (1) (time: 3652; latitude: 134; longitude: 720)\n",
      "6: approx_fresh_daily_snow_height / (1) (time: 3653; latitude: 134; longitude: 720)\n",
      "7: approx_fresh_daily_snow_height / (1) (time: 3652; latitude: 134; longitude: 720)\n",
      "8: approx_fresh_daily_snow_height / (1) (time: 3652; latitude: 134; longitude: 720)\n",
      "('gfdl-esm4', 'ssp585')\n",
      "0: approx_fresh_daily_snow_height / (1) (time: 2192; latitude: 134; longitude: 720)\n",
      "1: approx_fresh_daily_snow_height / (1) (time: 3652; latitude: 134; longitude: 720)\n",
      "2: approx_fresh_daily_snow_height / (1) (time: 3653; latitude: 134; longitude: 720)\n",
      "3: approx_fresh_daily_snow_height / (1) (time: 3652; latitude: 134; longitude: 720)\n",
      "4: approx_fresh_daily_snow_height / (1) (time: 3653; latitude: 134; longitude: 720)\n",
      "5: approx_fresh_daily_snow_height / (1) (time: 3652; latitude: 134; longitude: 720)\n",
      "6: approx_fresh_daily_snow_height / (1) (time: 3653; latitude: 134; longitude: 720)\n",
      "7: approx_fresh_daily_snow_height / (1) (time: 3652; latitude: 134; longitude: 720)\n",
      "8: approx_fresh_daily_snow_height / (1) (time: 3652; latitude: 134; longitude: 720)\n",
      "('ipsl-cm6a-lr', 'historical')\n",
      "0: approx_fresh_daily_snow_height / (1) (time: 365; latitude: 134; longitude: 720)\n",
      "1: approx_fresh_daily_snow_height / (1) (time: 3653; latitude: 134; longitude: 720)\n",
      "2: approx_fresh_daily_snow_height / (1) (time: 3652; latitude: 134; longitude: 720)\n",
      "3: approx_fresh_daily_snow_height / (1) (time: 3653; latitude: 134; longitude: 720)\n",
      "4: approx_fresh_daily_snow_height / (1) (time: 3652; latitude: 134; longitude: 720)\n",
      "5: approx_fresh_daily_snow_height / (1) (time: 3652; latitude: 134; longitude: 720)\n",
      "6: approx_fresh_daily_snow_height / (1) (time: 3652; latitude: 134; longitude: 720)\n",
      "7: approx_fresh_daily_snow_height / (1) (time: 3653; latitude: 134; longitude: 720)\n",
      "8: approx_fresh_daily_snow_height / (1) (time: 3652; latitude: 134; longitude: 720)\n",
      "9: approx_fresh_daily_snow_height / (1) (time: 3653; latitude: 134; longitude: 720)\n",
      "10: approx_fresh_daily_snow_height / (1) (time: 3652; latitude: 134; longitude: 720)\n",
      "11: approx_fresh_daily_snow_height / (1) (time: 3653; latitude: 134; longitude: 720)\n",
      "12: approx_fresh_daily_snow_height / (1) (time: 3652; latitude: 134; longitude: 720)\n",
      "13: approx_fresh_daily_snow_height / (1) (time: 3653; latitude: 134; longitude: 720)\n",
      "14: approx_fresh_daily_snow_height / (1) (time: 3652; latitude: 134; longitude: 720)\n",
      "15: approx_fresh_daily_snow_height / (1) (time: 3653; latitude: 134; longitude: 720)\n",
      "16: approx_fresh_daily_snow_height / (1) (time: 3652; latitude: 134; longitude: 720)\n",
      "17: approx_fresh_daily_snow_height / (1) (time: 1461; latitude: 134; longitude: 720)\n",
      "('ipsl-cm6a-lr', 'ssp126')\n",
      "0: approx_fresh_daily_snow_height / (1) (time: 2192; latitude: 134; longitude: 720)\n",
      "1: approx_fresh_daily_snow_height / (1) (time: 3652; latitude: 134; longitude: 720)\n",
      "2: approx_fresh_daily_snow_height / (1) (time: 3653; latitude: 134; longitude: 720)\n",
      "3: approx_fresh_daily_snow_height / (1) (time: 3652; latitude: 134; longitude: 720)\n",
      "4: approx_fresh_daily_snow_height / (1) (time: 3653; latitude: 134; longitude: 720)\n",
      "5: approx_fresh_daily_snow_height / (1) (time: 3652; latitude: 134; longitude: 720)\n",
      "6: approx_fresh_daily_snow_height / (1) (time: 3653; latitude: 134; longitude: 720)\n",
      "7: approx_fresh_daily_snow_height / (1) (time: 3652; latitude: 134; longitude: 720)\n",
      "8: approx_fresh_daily_snow_height / (1) (time: 3652; latitude: 134; longitude: 720)\n",
      "('ipsl-cm6a-lr', 'ssp370')\n",
      "0: approx_fresh_daily_snow_height / (1) (time: 2192; latitude: 134; longitude: 720)\n",
      "1: approx_fresh_daily_snow_height / (1) (time: 3652; latitude: 134; longitude: 720)\n",
      "2: approx_fresh_daily_snow_height / (1) (time: 3653; latitude: 134; longitude: 720)\n",
      "3: approx_fresh_daily_snow_height / (1) (time: 3652; latitude: 134; longitude: 720)\n",
      "4: approx_fresh_daily_snow_height / (1) (time: 3653; latitude: 134; longitude: 720)\n",
      "5: approx_fresh_daily_snow_height / (1) (time: 3652; latitude: 134; longitude: 720)\n",
      "6: approx_fresh_daily_snow_height / (1) (time: 3653; latitude: 134; longitude: 720)\n",
      "7: approx_fresh_daily_snow_height / (1) (time: 3652; latitude: 134; longitude: 720)\n",
      "8: approx_fresh_daily_snow_height / (1) (time: 3652; latitude: 134; longitude: 720)\n",
      "('ipsl-cm6a-lr', 'ssp585')\n",
      "0: approx_fresh_daily_snow_height / (1) (time: 2192; latitude: 134; longitude: 720)\n",
      "1: approx_fresh_daily_snow_height / (1) (time: 3652; latitude: 134; longitude: 720)\n",
      "2: approx_fresh_daily_snow_height / (1) (time: 3653; latitude: 134; longitude: 720)\n",
      "3: approx_fresh_daily_snow_height / (1) (time: 3652; latitude: 134; longitude: 720)\n",
      "4: approx_fresh_daily_snow_height / (1) (time: 3653; latitude: 134; longitude: 720)\n",
      "5: approx_fresh_daily_snow_height / (1) (time: 3652; latitude: 134; longitude: 720)\n",
      "6: approx_fresh_daily_snow_height / (1) (time: 3653; latitude: 134; longitude: 720)\n",
      "7: approx_fresh_daily_snow_height / (1) (time: 3652; latitude: 134; longitude: 720)\n",
      "8: approx_fresh_daily_snow_height / (1) (time: 3652; latitude: 134; longitude: 720)\n",
      "('mpi-esm1-2-hr', 'historical')\n",
      "0: approx_fresh_daily_snow_height / (1) (time: 365; latitude: 134; longitude: 720)\n",
      "1: approx_fresh_daily_snow_height / (1) (time: 3653; latitude: 134; longitude: 720)\n",
      "2: approx_fresh_daily_snow_height / (1) (time: 3652; latitude: 134; longitude: 720)\n",
      "3: approx_fresh_daily_snow_height / (1) (time: 3653; latitude: 134; longitude: 720)\n",
      "4: approx_fresh_daily_snow_height / (1) (time: 3652; latitude: 134; longitude: 720)\n",
      "5: approx_fresh_daily_snow_height / (1) (time: 3652; latitude: 134; longitude: 720)\n",
      "6: approx_fresh_daily_snow_height / (1) (time: 3652; latitude: 134; longitude: 720)\n",
      "7: approx_fresh_daily_snow_height / (1) (time: 3653; latitude: 134; longitude: 720)\n",
      "8: approx_fresh_daily_snow_height / (1) (time: 3652; latitude: 134; longitude: 720)\n",
      "9: approx_fresh_daily_snow_height / (1) (time: 3653; latitude: 134; longitude: 720)\n",
      "10: approx_fresh_daily_snow_height / (1) (time: 3652; latitude: 134; longitude: 720)\n",
      "11: approx_fresh_daily_snow_height / (1) (time: 3653; latitude: 134; longitude: 720)\n",
      "12: approx_fresh_daily_snow_height / (1) (time: 3652; latitude: 134; longitude: 720)\n",
      "13: approx_fresh_daily_snow_height / (1) (time: 3653; latitude: 134; longitude: 720)\n",
      "14: approx_fresh_daily_snow_height / (1) (time: 3652; latitude: 134; longitude: 720)\n",
      "15: approx_fresh_daily_snow_height / (1) (time: 3653; latitude: 134; longitude: 720)\n",
      "16: approx_fresh_daily_snow_height / (1) (time: 3652; latitude: 134; longitude: 720)\n",
      "17: approx_fresh_daily_snow_height / (1) (time: 1461; latitude: 134; longitude: 720)\n",
      "('mpi-esm1-2-hr', 'ssp126')\n",
      "0: approx_fresh_daily_snow_height / (1) (time: 2192; latitude: 134; longitude: 720)\n",
      "1: approx_fresh_daily_snow_height / (1) (time: 3652; latitude: 134; longitude: 720)\n",
      "2: approx_fresh_daily_snow_height / (1) (time: 3653; latitude: 134; longitude: 720)\n",
      "3: approx_fresh_daily_snow_height / (1) (time: 3652; latitude: 134; longitude: 720)\n",
      "4: approx_fresh_daily_snow_height / (1) (time: 3653; latitude: 134; longitude: 720)\n",
      "5: approx_fresh_daily_snow_height / (1) (time: 3652; latitude: 134; longitude: 720)\n",
      "6: approx_fresh_daily_snow_height / (1) (time: 3653; latitude: 134; longitude: 720)\n",
      "7: approx_fresh_daily_snow_height / (1) (time: 3652; latitude: 134; longitude: 720)\n",
      "8: approx_fresh_daily_snow_height / (1) (time: 3652; latitude: 134; longitude: 720)\n",
      "('mpi-esm1-2-hr', 'ssp370')\n",
      "0: approx_fresh_daily_snow_height / (1) (time: 2192; latitude: 134; longitude: 720)\n",
      "1: approx_fresh_daily_snow_height / (1) (time: 3652; latitude: 134; longitude: 720)\n",
      "2: approx_fresh_daily_snow_height / (1) (time: 3653; latitude: 134; longitude: 720)\n",
      "3: approx_fresh_daily_snow_height / (1) (time: 3652; latitude: 134; longitude: 720)\n",
      "4: approx_fresh_daily_snow_height / (1) (time: 3653; latitude: 134; longitude: 720)\n",
      "5: approx_fresh_daily_snow_height / (1) (time: 3652; latitude: 134; longitude: 720)\n",
      "6: approx_fresh_daily_snow_height / (1) (time: 3653; latitude: 134; longitude: 720)\n",
      "7: approx_fresh_daily_snow_height / (1) (time: 3652; latitude: 134; longitude: 720)\n",
      "8: approx_fresh_daily_snow_height / (1) (time: 3652; latitude: 134; longitude: 720)\n",
      "('mpi-esm1-2-hr', 'ssp585')\n",
      "0: approx_fresh_daily_snow_height / (1) (time: 2192; latitude: 134; longitude: 720)\n",
      "1: approx_fresh_daily_snow_height / (1) (time: 3652; latitude: 134; longitude: 720)\n",
      "2: approx_fresh_daily_snow_height / (1) (time: 3653; latitude: 134; longitude: 720)\n",
      "3: approx_fresh_daily_snow_height / (1) (time: 3652; latitude: 134; longitude: 720)\n",
      "4: approx_fresh_daily_snow_height / (1) (time: 3653; latitude: 134; longitude: 720)\n",
      "5: approx_fresh_daily_snow_height / (1) (time: 3652; latitude: 134; longitude: 720)\n",
      "6: approx_fresh_daily_snow_height / (1) (time: 3653; latitude: 134; longitude: 720)\n",
      "7: approx_fresh_daily_snow_height / (1) (time: 3652; latitude: 134; longitude: 720)\n",
      "8: approx_fresh_daily_snow_height / (1) (time: 3652; latitude: 134; longitude: 720)\n",
      "('mri-esm2-0', 'historical')\n",
      "0: approx_fresh_daily_snow_height / (1) (time: 365; latitude: 134; longitude: 720)\n",
      "1: approx_fresh_daily_snow_height / (1) (time: 3653; latitude: 134; longitude: 720)\n",
      "2: approx_fresh_daily_snow_height / (1) (time: 3652; latitude: 134; longitude: 720)\n",
      "3: approx_fresh_daily_snow_height / (1) (time: 3653; latitude: 134; longitude: 720)\n",
      "4: approx_fresh_daily_snow_height / (1) (time: 3652; latitude: 134; longitude: 720)\n",
      "5: approx_fresh_daily_snow_height / (1) (time: 3652; latitude: 134; longitude: 720)\n",
      "6: approx_fresh_daily_snow_height / (1) (time: 3652; latitude: 134; longitude: 720)\n",
      "7: approx_fresh_daily_snow_height / (1) (time: 3653; latitude: 134; longitude: 720)\n",
      "8: approx_fresh_daily_snow_height / (1) (time: 3652; latitude: 134; longitude: 720)\n",
      "9: approx_fresh_daily_snow_height / (1) (time: 3653; latitude: 134; longitude: 720)\n",
      "10: approx_fresh_daily_snow_height / (1) (time: 3652; latitude: 134; longitude: 720)\n",
      "11: approx_fresh_daily_snow_height / (1) (time: 3653; latitude: 134; longitude: 720)\n",
      "12: approx_fresh_daily_snow_height / (1) (time: 3652; latitude: 134; longitude: 720)\n",
      "13: approx_fresh_daily_snow_height / (1) (time: 3653; latitude: 134; longitude: 720)\n",
      "14: approx_fresh_daily_snow_height / (1) (time: 3652; latitude: 134; longitude: 720)\n",
      "15: approx_fresh_daily_snow_height / (1) (time: 3653; latitude: 134; longitude: 720)\n",
      "16: approx_fresh_daily_snow_height / (1) (time: 3652; latitude: 134; longitude: 720)\n",
      "17: approx_fresh_daily_snow_height / (1) (time: 1461; latitude: 134; longitude: 720)\n",
      "('mri-esm2-0', 'ssp126')\n",
      "0: approx_fresh_daily_snow_height / (1) (time: 2192; latitude: 134; longitude: 720)\n",
      "1: approx_fresh_daily_snow_height / (1) (time: 3652; latitude: 134; longitude: 720)\n",
      "2: approx_fresh_daily_snow_height / (1) (time: 3653; latitude: 134; longitude: 720)\n",
      "3: approx_fresh_daily_snow_height / (1) (time: 3652; latitude: 134; longitude: 720)\n",
      "4: approx_fresh_daily_snow_height / (1) (time: 3653; latitude: 134; longitude: 720)\n",
      "5: approx_fresh_daily_snow_height / (1) (time: 3652; latitude: 134; longitude: 720)\n",
      "6: approx_fresh_daily_snow_height / (1) (time: 3653; latitude: 134; longitude: 720)\n",
      "7: approx_fresh_daily_snow_height / (1) (time: 3652; latitude: 134; longitude: 720)\n",
      "8: approx_fresh_daily_snow_height / (1) (time: 3652; latitude: 134; longitude: 720)\n",
      "('mri-esm2-0', 'ssp370')\n",
      "0: approx_fresh_daily_snow_height / (1) (time: 2192; latitude: 134; longitude: 720)\n",
      "1: approx_fresh_daily_snow_height / (1) (time: 3652; latitude: 134; longitude: 720)\n",
      "2: approx_fresh_daily_snow_height / (1) (time: 3653; latitude: 134; longitude: 720)\n",
      "3: approx_fresh_daily_snow_height / (1) (time: 3652; latitude: 134; longitude: 720)\n",
      "4: approx_fresh_daily_snow_height / (1) (time: 3653; latitude: 134; longitude: 720)\n",
      "5: approx_fresh_daily_snow_height / (1) (time: 3652; latitude: 134; longitude: 720)\n",
      "6: approx_fresh_daily_snow_height / (1) (time: 3653; latitude: 134; longitude: 720)\n",
      "7: approx_fresh_daily_snow_height / (1) (time: 3652; latitude: 134; longitude: 720)\n",
      "8: approx_fresh_daily_snow_height / (1) (time: 3652; latitude: 134; longitude: 720)\n",
      "('mri-esm2-0', 'ssp585')\n",
      "0: approx_fresh_daily_snow_height / (1) (time: 2192; latitude: 134; longitude: 720)\n",
      "1: approx_fresh_daily_snow_height / (1) (time: 3652; latitude: 134; longitude: 720)\n",
      "2: approx_fresh_daily_snow_height / (1) (time: 3653; latitude: 134; longitude: 720)\n",
      "3: approx_fresh_daily_snow_height / (1) (time: 3652; latitude: 134; longitude: 720)\n",
      "4: approx_fresh_daily_snow_height / (1) (time: 3653; latitude: 134; longitude: 720)\n",
      "5: approx_fresh_daily_snow_height / (1) (time: 3652; latitude: 134; longitude: 720)\n",
      "6: approx_fresh_daily_snow_height / (1) (time: 3653; latitude: 134; longitude: 720)\n",
      "7: approx_fresh_daily_snow_height / (1) (time: 3652; latitude: 134; longitude: 720)\n",
      "8: approx_fresh_daily_snow_height / (1) (time: 3652; latitude: 134; longitude: 720)\n",
      "('ukesm1-0-ll', 'historical')\n",
      "0: approx_fresh_daily_snow_height / (1) (time: 365; latitude: 134; longitude: 720)\n",
      "1: approx_fresh_daily_snow_height / (1) (time: 3653; latitude: 134; longitude: 720)\n",
      "2: approx_fresh_daily_snow_height / (1) (time: 3652; latitude: 134; longitude: 720)\n",
      "3: approx_fresh_daily_snow_height / (1) (time: 3653; latitude: 134; longitude: 720)\n",
      "4: approx_fresh_daily_snow_height / (1) (time: 3652; latitude: 134; longitude: 720)\n",
      "5: approx_fresh_daily_snow_height / (1) (time: 3652; latitude: 134; longitude: 720)\n",
      "6: approx_fresh_daily_snow_height / (1) (time: 3652; latitude: 134; longitude: 720)\n",
      "7: approx_fresh_daily_snow_height / (1) (time: 3653; latitude: 134; longitude: 720)\n",
      "8: approx_fresh_daily_snow_height / (1) (time: 3652; latitude: 134; longitude: 720)\n",
      "9: approx_fresh_daily_snow_height / (1) (time: 3653; latitude: 134; longitude: 720)\n",
      "10: approx_fresh_daily_snow_height / (1) (time: 3652; latitude: 134; longitude: 720)\n",
      "11: approx_fresh_daily_snow_height / (1) (time: 3653; latitude: 134; longitude: 720)\n",
      "12: approx_fresh_daily_snow_height / (1) (time: 3652; latitude: 134; longitude: 720)\n",
      "13: approx_fresh_daily_snow_height / (1) (time: 3653; latitude: 134; longitude: 720)\n",
      "14: approx_fresh_daily_snow_height / (1) (time: 3652; latitude: 134; longitude: 720)\n",
      "15: approx_fresh_daily_snow_height / (1) (time: 3653; latitude: 134; longitude: 720)\n",
      "16: approx_fresh_daily_snow_height / (1) (time: 3652; latitude: 134; longitude: 720)\n",
      "17: approx_fresh_daily_snow_height / (1) (time: 1461; latitude: 134; longitude: 720)\n",
      "('ukesm1-0-ll', 'ssp126')\n",
      "0: approx_fresh_daily_snow_height / (1) (time: 2192; latitude: 134; longitude: 720)\n",
      "1: approx_fresh_daily_snow_height / (1) (time: 3652; latitude: 134; longitude: 720)\n",
      "2: approx_fresh_daily_snow_height / (1) (time: 3653; latitude: 134; longitude: 720)\n",
      "3: approx_fresh_daily_snow_height / (1) (time: 3652; latitude: 134; longitude: 720)\n",
      "4: approx_fresh_daily_snow_height / (1) (time: 3653; latitude: 134; longitude: 720)\n",
      "5: approx_fresh_daily_snow_height / (1) (time: 3652; latitude: 134; longitude: 720)\n",
      "6: approx_fresh_daily_snow_height / (1) (time: 3653; latitude: 134; longitude: 720)\n",
      "7: approx_fresh_daily_snow_height / (1) (time: 3652; latitude: 134; longitude: 720)\n",
      "8: approx_fresh_daily_snow_height / (1) (time: 3652; latitude: 134; longitude: 720)\n",
      "('ukesm1-0-ll', 'ssp370')\n",
      "0: approx_fresh_daily_snow_height / (1) (time: 2192; latitude: 134; longitude: 720)\n",
      "1: approx_fresh_daily_snow_height / (1) (time: 3652; latitude: 134; longitude: 720)\n",
      "2: approx_fresh_daily_snow_height / (1) (time: 3653; latitude: 134; longitude: 720)\n",
      "3: approx_fresh_daily_snow_height / (1) (time: 3652; latitude: 134; longitude: 720)\n",
      "4: approx_fresh_daily_snow_height / (1) (time: 3653; latitude: 134; longitude: 720)\n",
      "5: approx_fresh_daily_snow_height / (1) (time: 3652; latitude: 134; longitude: 720)\n",
      "6: approx_fresh_daily_snow_height / (1) (time: 3653; latitude: 134; longitude: 720)\n",
      "7: approx_fresh_daily_snow_height / (1) (time: 3652; latitude: 134; longitude: 720)\n",
      "8: approx_fresh_daily_snow_height / (1) (time: 3652; latitude: 134; longitude: 720)\n",
      "('ukesm1-0-ll', 'ssp585')\n",
      "0: approx_fresh_daily_snow_height / (1) (time: 2192; latitude: 134; longitude: 720)\n",
      "1: approx_fresh_daily_snow_height / (1) (time: 3652; latitude: 134; longitude: 720)\n",
      "2: approx_fresh_daily_snow_height / (1) (time: 3653; latitude: 134; longitude: 720)\n",
      "3: approx_fresh_daily_snow_height / (1) (time: 3652; latitude: 134; longitude: 720)\n",
      "4: approx_fresh_daily_snow_height / (1) (time: 3653; latitude: 134; longitude: 720)\n",
      "5: approx_fresh_daily_snow_height / (1) (time: 3652; latitude: 134; longitude: 720)\n",
      "6: approx_fresh_daily_snow_height / (1) (time: 3653; latitude: 134; longitude: 720)\n",
      "7: approx_fresh_daily_snow_height / (1) (time: 3652; latitude: 134; longitude: 720)\n",
      "8: approx_fresh_daily_snow_height / (1) (time: 3652; latitude: 134; longitude: 720)\n"
     ]
    }
   ],
   "source": [
    "# load data\n",
    "\n",
    "variablename = \"approx_fresh_daily_snow_height\"\n",
    "cubelist = {}\n",
    "\n",
    "for i_key in data_keys:\n",
    "    cubelist[i_key] = (latitude_constraint(23,iris.load(filepaths[i_key],variablename)))\n",
    "    \n",
    "for i_key in data_keys: \n",
    "    print(i_key)\n",
    "    print(cubelist[i_key])\n",
    "\n",
    "# ignore warnings\n",
    "warnings.simplefilter(\"ignore\")"
   ]
  },
  {
   "cell_type": "code",
   "execution_count": 5,
   "metadata": {
    "collapsed": true
   },
   "outputs": [],
   "source": [
    "# generate extra cube of decade 2011 to 2020 (with ssp585 data)\n",
    "def unify_current_decade (model):\n",
    "\n",
    "    cubes_to_concatenate = iris.cube.CubeList()\n",
    "    cubes_to_concatenate.append(cubelist[model, 'historical'][17])\n",
    "    cubes_to_concatenate.append(cubelist[model, 'ssp585'][0])\n",
    "\n",
    "    cube_2011_2020 = unify_concatenate(cubes_to_concatenate)\n",
    "    cubelist[model, 'historical'][17]=cube_2011_2020\n",
    "    \n"
   ]
  },
  {
   "cell_type": "code",
   "execution_count": 6,
   "metadata": {
    "collapsed": true
   },
   "outputs": [],
   "source": [
    "for i_model in modellist:\n",
    "    unify_current_decade(i_model)"
   ]
  },
  {
   "cell_type": "code",
   "execution_count": 37,
   "metadata": {
    "collapsed": true
   },
   "outputs": [],
   "source": [
    "def extract_dates(cube,startyear,finalyear):\n",
    "    \n",
    "    # filter for certain years (inclusive for start and final year)\n",
    "    # add auxilary year coordinate\n",
    "\n",
    "    iris.coord_categorisation.add_year(cube, 'time', name='year')\n",
    "    year_constraint = iris.Constraint(year= lambda t: startyear<=t<=finalyear)\n",
    "    limited_cube = cube.extract(year_constraint)\n",
    "    cube.remove_coord('year')\n",
    "    return limited_cube\n",
    "# method to generate flattened array of data from a cube\n",
    "\n",
    "def flattened_data_array (cube):\n",
    "    # get data as numpy array\n",
    "    np_data = cube.data\n",
    "    #return flattened data\n",
    "    return np_data.flatten()\n",
    "\n",
    "def generate_quantile_exceedance_development (cube,quantiles,startyear,finalyear,intensity=False):\n",
    "\n",
    "    data_timeperiod = extract_dates(cube,startyear,finalyear)\n",
    "\n",
    "    # calculate exceedance of quantiles for each gridcell to use as thresholds:\n",
    "\n",
    "    data = {}\n",
    "    for i_quantile in quantiles:\n",
    "        quantile_data = data_timeperiod.collapsed('time',iris.analysis.PERCENTILE,percent=i_quantile)\n",
    "    \n",
    "        exceedance = data_timeperiod - quantile_data\n",
    "        # consider only positve values of exceedance\n",
    "        exceedance_array = exceedance.data\n",
    "        exceedance_indicators =(exceedance_array  > 0)\n",
    "        \n",
    "        exceedance.data = exceedance_array * exceedance_indicators\n",
    "        \n",
    "        number_exceedances = exceedance.collapsed('time',iris.analysis.COUNT,function= lambda x: x>0)\n",
    "        sum_exceedances = exceedance.collapsed('time',iris.analysis.SUM)\n",
    "        \n",
    "        mean_exceedance = sum_exceedances / number_exceedances\n",
    "        \n",
    "        data ['quantile',i_quantile] = quantile_data\n",
    "        data ['exceedance',i_quantile] = exceedance\n",
    "        data [number_exceedances] = number_exceedances\n",
    "        data ['mean_exceedance',i_quantile]=mean_exceedance\n",
    "    return data\n",
    "    \n",
    "    \n",
    "def generate_threshold_development (cube,startyear,finalyear,intensity=False):\n",
    "\n",
    "    cube_years = extract_dates(cube,startyear,finalyear)\n",
    "    \n",
    "    \n",
    "   \n",
    "\n",
    "    # general threshold specs\n",
    "    \n",
    "    start_threshold = 500\n",
    "    threshold_step = 5\n",
    "    final_threshold = 1500\n",
    "    thresholds = np.arange(start_threshold,final_threshold+threshold_step,threshold_step)\n",
    "    # calculate exceedance cubes for plotting of maps etc\n",
    "    \n",
    "    map_threshold_step = 250\n",
    "    map_thresholds = np.arange(start_threshold,final_threshold+map_threshold_step,map_threshold_step)\n",
    "    threshold_cubes = {}\n",
    "    for i_threshold in map_thresholds:\n",
    "        threshold_cubes[str(i_threshold),'frequency']= cube_years.collapsed('time',iris.analysis.COUNT,function = lambda x: x>i_threshold)\n",
    "        # calcuclate intensity for each gridcell:\n",
    "       \n",
    "        \n",
    "        frequency_data=threshold_cubes[str(i_threshold),'frequency'].data\n",
    "        clipped_data= np.clip(cube_years.data,a_min=i_threshold,a_max=None)\n",
    "        clipped_data = np.subtract(clipped_data,i_threshold)\n",
    "        intensity_data = np.sum(clipped_data,axis=0)\n",
    "        \n",
    "       \n",
    "        expected_snowfall_data = intensity_data/frequency_data\n",
    "        \n",
    "        expected_snowfall_cube = threshold_cubes[str(i_threshold),'frequency'].copy(data=expected_snowfall_data) \n",
    "\n",
    "        var_name= ('expected_snowfall_above_'+str(i_threshold)+'mm_per_day')\n",
    "        expected_snowfall_cube.var_name = var_name\n",
    "        threshold_cubes[str(i_threshold),'expected_snowfall'] = expected_snowfall_cube\n",
    "        threshold_cubes[str(i_threshold),'intensity'] = intensity_data\n",
    "    dataarray = flattened_data_array(cube_years)\n",
    "    thresholds = np.arange(start_threshold,final_threshold+threshold_step,threshold_step)\n",
    "    exceedances = np.empty(thresholds.size)\n",
    "    if intensity:\n",
    "        intensities = np.empty(thresholds.size)\n",
    "        \n",
    "    # count number of events above threshold for all thresholds\n",
    "    index_array = 0\n",
    "    for i_threshold in thresholds:\n",
    "        exceedances[index_array]=count_threshold_exceedances(dataarray,i_threshold)\n",
    "        if intensity:\n",
    "            intensities[index_array] = np.sum(dataarray[dataarray>i_threshold])\n",
    "        index_array +=1\n",
    "    data = {}\n",
    "    data ['exceedance_array'] = np.vstack((thresholds,exceedances))\n",
    "    if intensity:\n",
    "        data ['intensity_array'] = np.vstack((thresholds,intensities))\n",
    "    data ['map_cubes']=threshold_cubes\n",
    "    return data\n",
    "    \n",
    "def count_threshold_exceedances (dataarray,threshold):\n",
    "    \n",
    "    return (dataarray[dataarray>threshold].size) "
   ]
  },
  {
   "cell_type": "code",
   "execution_count": 8,
   "metadata": {
    "collapsed": true
   },
   "outputs": [],
   "source": [
    "def calculate_decades_threshold_frequency (historical_cube,ssp126_cube,ssp370_cube,ssp585_cube,number_of_decades,historical_start,ssp_start,intensity=False):\n",
    "    \n",
    "    return calculate_timespans_threshold_frequency (historical_cube,ssp126_cube,ssp370_cube,ssp585_cube,10,number_of_decades,historical_start,ssp_start,intensity=intensity)\n",
    "\n",
    "\n",
    "def calculate_timespans_threshold_frequency (historical_cube,ssp126_cube,ssp370_cube, ssp585_cube,number_of_years_to_compare,number_of_timeperiods,historical_start,ssp_start,intensity=False):\n",
    "    historical_start_list = []\n",
    "   \n",
    "    historical_start_list.append(historical_start)\n",
    "\n",
    "    \n",
    "    ssp_start_list = []\n",
    "    \n",
    "    ssp_start_list.append(ssp_start)\n",
    "    \n",
    "    \n",
    "\n",
    "    for index in range(1, number_of_timeperiods):\n",
    "        historical_start_list.append(historical_start_list [index-1]+number_of_years_to_compare)\n",
    "        \n",
    "        ssp_start_list.append(ssp_start_list [index-1]+number_of_years_to_compare)\n",
    "      \n",
    "\n",
    "    \n",
    "\n",
    "    data = {}\n",
    "    \n",
    "    for i_historical_start in historical_start_list:\n",
    "        i_historical_end = i_historical_start+number_of_years_to_compare-1\n",
    "        data ['historical',i_historical_start,i_historical_end] = generate_threshold_development(historical_cube,i_historical_start,i_historical_end,intensity=intensity)\n",
    "\n",
    "    for i_ssp_start in ssp_start_list:\n",
    "        i_ssp_end = i_ssp_start+number_of_years_to_compare-1\n",
    "        data ['ssp126',i_ssp_start,i_ssp_end] = generate_threshold_development(ssp126_cube,i_ssp_start,i_ssp_end,intensity=intensity)\n",
    "        data ['ssp370',i_ssp_start,i_ssp_end] = generate_threshold_development(ssp370_cube,i_ssp_start,i_ssp_end,intensity=intensity)\n",
    "        data ['ssp585',i_ssp_start,i_ssp_end] = generate_threshold_development(ssp585_cube,i_ssp_start,i_ssp_end,intensity=intensity)\n",
    "\n",
    "    \n",
    "    return (data)"
   ]
  },
  {
   "cell_type": "code",
   "execution_count": 9,
   "metadata": {
    "collapsed": true
   },
   "outputs": [],
   "source": [
    "# function to restrict cubes on bounding box\n",
    "\n",
    "def cube_from_bounding_box (cube, bounding_box):\n",
    "    return cube.intersection(longitude=(bounding_box[0],bounding_box[2])).intersection(latitude=(bounding_box[1],bounding_box[3]))\n",
    "\n",
    "\n",
    "def country_dict_from_iso(country):\n",
    "    country_dict = {}\n",
    "    for c in country_subunits_by_iso_code(country):\n",
    "        print (c.name)\n",
    "        country_dict[str(c.name)]=c.bbox\n",
    "    return country_dict\n",
    "\n",
    "\n",
    "\n",
    "# method to create list of country limited cubes\n",
    "\n",
    "def country_cubelist(cubelist,country_box):\n",
    "    country_cubes = iris.cube.CubeList()\n",
    "    for i_cube in cubelist:\n",
    "        country_cubes.append(cube_from_bounding_box(i_cube,country_box))\n",
    "    return unify_concatenate(country_cubes)\n",
    "        \n",
    "# filter all scenarios:\n",
    "def country_filter(cubedict,country_box):\n",
    "    dict_keys = cubedict.keys()\n",
    "    country_cubes = {}\n",
    "    for i_key in dict_keys:\n",
    "        country_cubes[i_key] = country_cubelist(cubedict[i_key],country_box)\n",
    "    return country_cubes\n"
   ]
  },
  {
   "cell_type": "code",
   "execution_count": 10,
   "metadata": {
    "collapsed": true
   },
   "outputs": [],
   "source": [
    "def comparison_threshold(model,basic_cubelist,number_of_decades,area_box,start_historical,start_ssp,areaname,intensity=False):\n",
    "    #filter data for country box:\n",
    "    area_data = country_filter(basic_cubelist,area_box)\n",
    " \n",
    "    # filter for season to reduce computational load, winter snowfalls anyway top percentile most likely\n",
    "    # country_data = prepare_season_stats (country_data,season)\n",
    "   \n",
    "    historical_cube = area_data[model, 'historical']\n",
    "    ssp126_cube = area_data[model, 'ssp126']\n",
    "    ssp370_cube = area_data[model, 'ssp370']\n",
    "    ssp585_cube = area_data[model, 'ssp585']\n",
    "    \n",
    "    \n",
    "    \n",
    "    return calculate_decades_threshold_frequency(historical_cube,ssp126_cube,ssp370_cube,ssp585_cube,number_of_decades,start_historical,start_ssp,intensity=intensity)\n",
    "   "
   ]
  },
  {
   "cell_type": "code",
   "execution_count": 38,
   "metadata": {
    "collapsed": true
   },
   "outputs": [],
   "source": [
    "# test frequency plotting for germany\n",
    "test  = comparison_threshold('gfdl-esm4',cubelist,1,germany_box,1991,2021,'Germany',intensity=True)\n"
   ]
  },
  {
   "cell_type": "code",
   "execution_count": 39,
   "metadata": {},
   "outputs": [
    {
     "name": "stdout",
     "output_type": "stream",
     "text": [
      "dict_keys([('historical', 1991, 2000), ('ssp126', 2021, 2030), ('ssp370', 2021, 2030), ('ssp585', 2021, 2030)])\n"
     ]
    }
   ],
   "source": [
    "print(test.keys())"
   ]
  },
  {
   "cell_type": "code",
   "execution_count": 48,
   "metadata": {
    "collapsed": true
   },
   "outputs": [],
   "source": [
    "cube = test[('historical', 1991, 2000)]['map_cubes'][('500', 'expected_snowfall')]\n",
    "intensity  = test[('historical', 1991, 2000)]['map_cubes'][('500', 'intensity')]\n",
    "frequency =test[('historical', 1991, 2000)]['map_cubes'][('500', 'frequency')]"
   ]
  },
  {
   "cell_type": "code",
   "execution_count": 53,
   "metadata": {
    "collapsed": true
   },
   "outputs": [],
   "source": [
    "es =(test[('historical', 1991, 2000)]['map_cubes'][('500', 'expected_snowfall')])\n"
   ]
  },
  {
   "cell_type": "code",
   "execution_count": 54,
   "metadata": {},
   "outputs": [
    {
     "data": {
      "image/png": "[encoded data removed]",
      "text/plain": [
       "<Figure size 432x288 with 2 Axes>"
      ]
     },
     "metadata": {},
     "output_type": "display_data"
    }
   ],
   "source": [
    "qplt.pcolormesh(es)\n",
    "plt.gca().coastlines()\n",
    "plt.show()"
   ]
  },
  {
   "cell_type": "code",
   "execution_count": 55,
   "metadata": {
    "collapsed": true
   },
   "outputs": [],
   "source": [
    "# define boxes for northern america and northern europe:\n",
    "\n",
    "northern_america = (-140,30,-50,60)\n",
    "\n",
    "northern_europe = (-25,42,44,68)\n",
    "\n",
    "arealist = {}\n",
    "arealist['NORTHERN AMERICA']=northern_america\n",
    "arealist['NORTHERN EUROPE']=northern_europe\n",
    "# define dictionary to save analysis results \n",
    "results = {}"
   ]
  },
  {
   "cell_type": "code",
   "execution_count": 56,
   "metadata": {
    "collapsed": true
   },
   "outputs": [],
   "source": [
    "def multi_region_threshold_analysis_preindustrial(modellist,arealist,intensity=True):\n",
    "\n",
    "    for i_model in tqdm(modellist):\n",
    "        for i_key in tqdm(arealist.keys()):\n",
    "            results [i_model,'preindustrial',i_key] = comparison_threshold(i_model,cubelist,8,arealist[i_key],1851,2021,i_key,intensity=True)\n",
    "            filename = str(i_model)+'preindustrial_'+str(i_key)\n",
    "            date = datetime.datetime.now().strftime(\"%Y%m%d_%H:%M:%S\")\n",
    "            filename = filename+str(date)\n",
    "            print(filename) \n",
    "            file = open(filename, 'wb')\n",
    "            pickle.dump(results,file)                                            \n",
    "   "
   ]
  },
  {
   "cell_type": "code",
   "execution_count": 57,
   "metadata": {
    "collapsed": true
   },
   "outputs": [],
   "source": [
    "import pickle\n"
   ]
  },
  {
   "cell_type": "code",
   "execution_count": 58,
   "metadata": {},
   "outputs": [
    {
     "name": "stdout",
     "output_type": "stream",
     "text": [
      "comparison_preindustrial_20200408_11:25:55\n"
     ]
    }
   ],
   "source": [
    "import datetime\n",
    "# use pickle to store intermiedate results\n",
    "date = datetime.datetime.now().strftime(\"%Y%m%d_%H:%M:%S\")\n",
    "filename = 'comparison_preindustrial_'+str(date)\n",
    "print(filename)"
   ]
  },
  {
   "cell_type": "code",
   "execution_count": 59,
   "metadata": {
    "collapsed": true
   },
   "outputs": [],
   "source": [
    "# set outputpath for analyis pickle files etc\n",
    "\n",
    "outputdir = '/p/tmp/quante/snow_simulation_data/notebook_output'\n",
    "os.chdir(outputdir)\n"
   ]
  },
  {
   "cell_type": "code",
   "execution_count": null,
   "metadata": {},
   "outputs": [
    {
     "name": "stderr",
     "output_type": "stream",
     "text": [
      "  0%|          | 0/5 [00:00<?, ?it/s]\n",
      "  0%|          | 0/2 [00:00<?, ?it/s]\u001b[A\n",
      " 50%|█████     | 1/2 [29:35<29:35, 1775.86s/it]\u001b[A"
     ]
    },
    {
     "name": "stdout",
     "output_type": "stream",
     "text": [
      "gfdl-esm4preindustrial_NORTHERN AMERICA20200408_11:57:12\n"
     ]
    },
    {
     "name": "stderr",
     "output_type": "stream",
     "text": [
      "\n",
      "100%|██████████| 2/2 [50:53<00:00, 1526.65s/it]\u001b[A\n",
      " 20%|██        | 1/5 [50:53<3:23:33, 3053.30s/it]\n",
      "  0%|          | 0/2 [00:00<?, ?it/s]\u001b[A"
     ]
    },
    {
     "name": "stdout",
     "output_type": "stream",
     "text": [
      "gfdl-esm4preindustrial_NORTHERN EUROPE20200408_12:18:29\n",
      "ipsl-cm6a-lrpreindustrial_NORTHERN AMERICA20200408_12:46:59\n"
     ]
    },
    {
     "name": "stderr",
     "output_type": "stream",
     "text": [
      "\n",
      " 50%|█████     | 1/2 [28:29<28:29, 1709.72s/it]\u001b[A"
     ]
    },
    {
     "name": "stdout",
     "output_type": "stream",
     "text": [
      "ipsl-cm6a-lrpreindustrial_NORTHERN EUROPE20200408_13:08:43\n"
     ]
    },
    {
     "name": "stderr",
     "output_type": "stream",
     "text": [
      "\n",
      "100%|██████████| 2/2 [50:14<00:00, 1507.11s/it]\u001b[A\n",
      " 40%|████      | 2/5 [1:41:07<2:32:04, 3041.58s/it]\n",
      "  0%|          | 0/2 [00:00<?, ?it/s]\u001b[A"
     ]
    },
    {
     "name": "stdout",
     "output_type": "stream",
     "text": [
      "mpi-esm1-2-hrpreindustrial_NORTHERN AMERICA20200408_13:36:58\n"
     ]
    },
    {
     "name": "stderr",
     "output_type": "stream",
     "text": [
      "\n",
      " 50%|█████     | 1/2 [28:15<28:15, 1695.15s/it]\u001b[A"
     ]
    },
    {
     "name": "stdout",
     "output_type": "stream",
     "text": [
      "mpi-esm1-2-hrpreindustrial_NORTHERN EUROPE20200408_13:57:48\n"
     ]
    },
    {
     "name": "stderr",
     "output_type": "stream",
     "text": [
      "\n",
      "100%|██████████| 2/2 [49:04<00:00, 1472.35s/it]\u001b[A\n",
      " 60%|██████    | 3/5 [2:30:12<1:40:25, 3012.51s/it]\n",
      "  0%|          | 0/2 [00:00<?, ?it/s]\u001b[A"
     ]
    }
   ],
   "source": [
    "# generate data for all models\n",
    "multi_region_threshold_analysis_preindustrial (modellist,arealist)"
   ]
  },
  {
   "cell_type": "code",
   "execution_count": 65,
   "metadata": {},
   "outputs": [
    {
     "name": "stdout",
     "output_type": "stream",
     "text": [
      "dict_keys([('500', 'frequency'), ('500', 'expected_snowfall'), ('500', 'intensity'), ('750', 'frequency'), ('750', 'expected_snowfall'), ('750', 'intensity'), ('1000', 'frequency'), ('1000', 'expected_snowfall'), ('1000', 'intensity'), ('1250', 'frequency'), ('1250', 'expected_snowfall'), ('1250', 'intensity'), ('1500', 'frequency'), ('1500', 'expected_snowfall'), ('1500', 'intensity')])\n"
     ]
    }
   ],
   "source": [
    "print(results[('gfdl-esm4', 'preindustrial', 'NORTHERN AMERICA')][('historical', 1851, 1860)]['map_cubes'].keys())"
   ]
  },
  {
   "cell_type": "code",
   "execution_count": 13,
   "metadata": {
    "collapsed": true
   },
   "outputs": [],
   "source": [
    "# function to restrict cubes on bounding box\n",
    "from country_bounding_boxes import (\n",
    "      country_subunits_containing_point,\n",
    "      country_subunits_by_iso_code\n",
    "    )\n",
    "def cube_from_bounding_box (cube, bounding_box):\n",
    "    return cube.intersection(longitude=(bounding_box[0],bounding_box[2])).intersection(latitude=(bounding_box[1],bounding_box[3]))\n",
    "\n",
    "\n",
    "def country_dict_from_iso(country):\n",
    "    country_dict = {}\n",
    "    for c in country_subunits_by_iso_code(country):\n",
    "        print (c.name)\n",
    "        country_dict[str(c.name)]=c.bbox\n",
    "    return country_dict\n",
    "\n",
    "\n",
    "\n",
    "# method to create list of country limited cubes\n",
    "\n",
    "def country_cubelist(cubelist,country_box):\n",
    "    country_cubes = iris.cube.CubeList()\n",
    "    for i_cube in cubelist:\n",
    "        country_cubes.append(cube_from_bounding_box(i_cube,country_box))\n",
    "    return unify_concatenate(country_cubes)\n",
    "        \n",
    "# filter all scenarios:\n",
    "def country_filter(cubedict,country_box):\n",
    "    dict_keys = cubedict.keys()\n",
    "    country_cubes = {}\n",
    "    for i_key in dict_keys:\n",
    "        country_cubes[i_key] = country_cubelist(cubedict[i_key],country_box)\n",
    "    return country_cubes"
   ]
  },
  {
   "cell_type": "code",
   "execution_count": 14,
   "metadata": {},
   "outputs": [
    {
     "name": "stdout",
     "output_type": "stream",
     "text": [
      "Germany\n"
     ]
    }
   ],
   "source": [
    "germany_box = country_dict_from_iso ('DE') [\"Germany\"]"
   ]
  },
  {
   "cell_type": "code",
   "execution_count": 8,
   "metadata": {},
   "outputs": [
    {
     "name": "stdout",
     "output_type": "stream",
     "text": [
      "(5.85751953125, 47.2788085938, 15.0166015625, 55.0587402344)\n"
     ]
    }
   ],
   "source": [
    "print(germany_box\n",
    "     )"
   ]
  },
  {
   "cell_type": "code",
   "execution_count": null,
   "metadata": {
    "collapsed": true
   },
   "outputs": [],
   "source": []
  }
 ],
 "metadata": {
  "kernelspec": {
   "display_name": "Python (my_root)",
   "language": "python",
   "name": "my_root"
  },
  "language_info": {
   "codemirror_mode": {
    "name": "ipython",
    "version": 3
   },
   "file_extension": ".py",
   "mimetype": "text/x-python",
   "name": "python",
   "nbconvert_exporter": "python",
   "pygments_lexer": "ipython3",
   "version": "3.6.5"
  },
  "pycharm": {
   "stem_cell": {
    "cell_type": "raw",
    "source": [],
    "metadata": {
     "collapsed": false
    }
   }
  }
 },
 "nbformat": 4,
 "nbformat_minor": 2
}