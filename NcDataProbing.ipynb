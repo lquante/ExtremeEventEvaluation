{
 "cells": [
  {
   "cell_type": "markdown",
   "metadata": {
    "pycharm": {
     "name": "#%% md\n"
    }
   },
   "source": [
    "### Notebook to analyse *.nc files (with single variables) "
   ]
  },
  {
   "cell_type": "code",
   "execution_count": 1,
   "metadata": {
    "collapsed": true,
    "pycharm": {
     "is_executing": false,
     "name": "#%%\n"
    }
   },
   "outputs": [],
   "source": [
    "#TODO: extend to multiple variables \n",
    "\n",
    "# Imports\n",
    "import cartopy\n",
    "import matplotlib.pyplot as plt\n",
    "import numpy as np\n",
    "import iris\n",
    "from iris.analysis import Aggregator\n",
    "import iris.plot as iplt\n",
    "import iris.quickplot as qplt\n",
    "import iris.coord_categorisation\n",
    "from iris.util import rolling_window\n",
    "from ruamel import yaml\n",
    "from tqdm import tqdm\n",
    "from ruamel.yaml import ruamel\n",
    "import warnings"
   ]
  },
  {
   "cell_type": "markdown",
   "metadata": {
    "pycharm": {
     "name": "#%% md\n"
    }
   },
   "source": [
    "Utilizing \n",
    "https://scitools.org.uk/iris/docs/latest/examples/General/custom_aggregation.html"
   ]
  },
  {
   "cell_type": "markdown",
   "metadata": {
    "pycharm": {
     "name": "#%% md\n"
    }
   },
   "source": [
    "#### Some initial data probing"
   ]
  },
  {
   "cell_type": "code",
   "execution_count": 2,
   "metadata": {
    "pycharm": {
     "is_executing": false,
     "name": "#%%\n"
    }
   },
   "outputs": [
    {
     "name": "stdout",
     "output_type": "stream",
     "text": [
      "/p/tmp/quante/snow_simulation_data/isimip3b/20200304/ssp126/output/data_mpi-esm1-2-hr.yml\n",
      "['/p/tmp/quante/snow_simulation_data/isimip3b/20200304/ssp126/output_mpi-esm1-2-hr_ssp126_20612070.nc', '/p/tmp/quante/snow_simulation_data/isimip3b/20200304/ssp126/output_mpi-esm1-2-hr_ssp126_20512060.nc', '/p/tmp/quante/snow_simulation_data/isimip3b/20200304/ssp126/output_mpi-esm1-2-hr_ssp126_20312040.nc', '/p/tmp/quante/snow_simulation_data/isimip3b/20200304/ssp126/output_mpi-esm1-2-hr_ssp126_20152020.nc', '/p/tmp/quante/snow_simulation_data/isimip3b/20200304/ssp126/output_mpi-esm1-2-hr_ssp126_20212030.nc', '/p/tmp/quante/snow_simulation_data/isimip3b/20200304/ssp126/output_mpi-esm1-2-hr_ssp126_20712080.nc', '/p/tmp/quante/snow_simulation_data/isimip3b/20200304/ssp126/output_mpi-esm1-2-hr_ssp126_20912100.nc', '/p/tmp/quante/snow_simulation_data/isimip3b/20200304/ssp126/output_mpi-esm1-2-hr_ssp126_20812090.nc', '/p/tmp/quante/snow_simulation_data/isimip3b/20200304/ssp126/output_mpi-esm1-2-hr_ssp126_20412050.nc']\n"
     ]
    }
   ],
   "source": [
    "# test for multi model execution\n",
    "\n",
    "\n",
    "data = '/p/tmp/quante/snow_simulation_data/isimip3b/20200304/ssp126/output/data_mpi-esm1-2-hr.yml'\n",
    "\n",
    "print(data)\n",
    "\n",
    "with open(data, 'r') as stream:\n",
    "        try:\n",
    "            filepaths = yaml.safe_load(stream)\n",
    "        except yaml.YAMLError as exc:\n",
    "            print(exc)\n",
    "print(filepaths)"
   ]
  },
  {
   "cell_type": "markdown",
   "metadata": {},
   "source": [
    "#### Some statistics"
   ]
  },
  {
   "cell_type": "code",
   "execution_count": 5,
   "metadata": {
    "pycharm": {
     "is_executing": false,
     "name": "#%%\n"
    }
   },
   "outputs": [
    {
     "name": "stderr",
     "output_type": "stream",
     "text": [
      "100%|██████████| 9/9 [00:00<00:00, 145.23it/s]"
     ]
    },
    {
     "name": "stdout",
     "output_type": "stream",
     "text": [
      "0: approx_fresh_daily_snow_height / (1) (time: 2192; latitude: 360; longitude: 720)\n",
      "1: approx_fresh_daily_snow_height / (1) (time: 3652; latitude: 360; longitude: 720)\n",
      "2: approx_fresh_daily_snow_height / (1) (time: 3653; latitude: 360; longitude: 720)\n",
      "3: approx_fresh_daily_snow_height / (1) (time: 3652; latitude: 360; longitude: 720)\n",
      "4: approx_fresh_daily_snow_height / (1) (time: 3653; latitude: 360; longitude: 720)\n",
      "5: approx_fresh_daily_snow_height / (1) (time: 3652; latitude: 360; longitude: 720)\n",
      "6: approx_fresh_daily_snow_height / (1) (time: 3653; latitude: 360; longitude: 720)\n",
      "7: approx_fresh_daily_snow_height / (1) (time: 3652; latitude: 360; longitude: 720)\n",
      "8: approx_fresh_daily_snow_height / (1) (time: 3652; latitude: 360; longitude: 720)\n",
      "0: approx_fresh_daily_snow_height / (1) (time: 2192; latitude: 134; longitude: 720)\n",
      "1: approx_fresh_daily_snow_height / (1) (time: 3652; latitude: 134; longitude: 720)\n",
      "2: approx_fresh_daily_snow_height / (1) (time: 3653; latitude: 134; longitude: 720)\n",
      "3: approx_fresh_daily_snow_height / (1) (time: 3652; latitude: 134; longitude: 720)\n",
      "4: approx_fresh_daily_snow_height / (1) (time: 3653; latitude: 134; longitude: 720)\n",
      "5: approx_fresh_daily_snow_height / (1) (time: 3652; latitude: 134; longitude: 720)\n",
      "6: approx_fresh_daily_snow_height / (1) (time: 3653; latitude: 134; longitude: 720)\n",
      "7: approx_fresh_daily_snow_height / (1) (time: 3652; latitude: 134; longitude: 720)\n",
      "8: approx_fresh_daily_snow_height / (1) (time: 3652; latitude: 134; longitude: 720)\n"
     ]
    },
    {
     "name": "stderr",
     "output_type": "stream",
     "text": [
      "\n"
     ]
    }
   ],
   "source": [
    "# load data\n",
    "# function to filter for specific variables\n",
    "\n",
    "def filter_cube (cube,variablename):\n",
    "    return cube.extract(variablename)\n",
    "   \n",
    "variablename = \"approx_fresh_daily_snow_height\"\n",
    "cubelist = iris.load(filepaths,variablename)\n",
    "print(cubelist)\n",
    "constrained_cubes = iris.cube.CubeList()\n",
    "# restrict on latitudes above northern tropic\n",
    "northernTropic = iris.Constraint(latitude=lambda v: 23 <= v)\n",
    "\n",
    "for i_cube in tqdm(cubelist):\n",
    "    constrained_cubes.append(i_cube.extract(northernTropic))\n",
    "    \n",
    "print (constrained_cubes)   "
   ]
  },
  {
   "cell_type": "code",
   "execution_count": 6,
   "metadata": {
    "pycharm": {
     "is_executing": false,
     "name": "#%%\n"
    }
   },
   "outputs": [
    {
     "name": "stderr",
     "output_type": "stream",
     "text": [
      "100%|██████████| 9/9 [00:07<00:00,  1.15it/s]\n"
     ]
    }
   ],
   "source": [
    "analyisis_cubes = constrained_cubes\n",
    "# always use analysis cubes, input can be changed here and only here\n",
    " # add some auxilary coordinates\n",
    "for i_cube in tqdm(analyisis_cubes):\n",
    "  iris.coord_categorisation.add_year(i_cube, 'time', name='year')"
   ]
  },
  {
   "cell_type": "code",
   "execution_count": 7,
   "metadata": {
    "collapsed": true,
    "pycharm": {
     "is_executing": false,
     "name": "#%%\n"
    }
   },
   "outputs": [],
   "source": [
    "# ignore warnings\n",
    "warnings.simplefilter(\"ignore\")"
   ]
  },
  {
   "cell_type": "code",
   "execution_count": 8,
   "metadata": {
    "collapsed": true,
    "pycharm": {
     "is_executing": false,
     "name": "#%%\n"
    }
   },
   "outputs": [],
   "source": [
    "# function to generate for polynomial fit\n",
    "def quadratic_fit (cube):\n",
    " # Calculate a polynomial fit to the data at this time series.\n",
    "    x_points = cube.coord('time').points\n",
    "    y_points = cube.data\n",
    "    degree = 2\n",
    "\n",
    "    p = np.polyfit(x_points, y_points, degree)\n",
    "    y_fitted = np.polyval(p, x_points)\n",
    "\n",
    "    # Add the polynomial fit values to the time series to take\n",
    "    # full advantage of Iris plotting functionality.\n",
    "    long_name = 'degree_{}_polynomial_fit_of_{}'.format(degree, cube.name())\n",
    "    fit = iris.coords.AuxCoord(y_fitted, long_name=long_name,\n",
    "                               units=cube.units)\n",
    "    cube.add_aux_coord(fit, 0)\n",
    "\n",
    "    qplt.plot(cube.coord('time'), cube, label='data')\n",
    "    qplt.plot(cube.coord('time'),\n",
    "              cube.coord(long_name),\n",
    "              'g-', label='polynomial fit')\n",
    "    plt.legend(loc='best')\n",
    "\n"
   ]
  },
  {
   "cell_type": "code",
   "execution_count": 9,
   "metadata": {
    "pycharm": {
     "is_executing": false,
     "name": "#%%\n"
    }
   },
   "outputs": [
    {
     "name": "stderr",
     "output_type": "stream",
     "text": [
      "100%|██████████| 9/9 [00:00<00:00, 303.72it/s]\n",
      "100%|██████████| 9/9 [00:00<00:00, 318.82it/s]\n",
      "100%|██████████| 9/9 [00:00<00:00, 324.85it/s]"
     ]
    },
    {
     "name": "stdout",
     "output_type": "stream",
     "text": [
      "['Alaska', 'Hawaii', 'U.S.A.', 'Alaska']\n",
      "[(-178.19453125, 51.6036621094, -130.0140625, 71.4076660156), (-160.243457031, 18.9639160156, -154.804199219, 22.2231445312), (-124.709960938, 24.5423339844, -66.9870117187, 49.3696777344), (172.494824219, 51.3722167969, 179.779980469, 53.0129882813)]\n",
      "['Hainan', 'China']\n",
      "[(108.635644531, 18.2182617188, 111.013671875, 20.1377441406), (73.6073242187, 20.2637207031, 134.75234375, 53.5556152344)]\n",
      "['Germany']\n",
      "[(5.85751953125, 47.2788085938, 15.0166015625, 55.0587402344)]\n"
     ]
    },
    {
     "name": "stderr",
     "output_type": "stream",
     "text": [
      "\n"
     ]
    }
   ],
   "source": [
    "# some \"country\" statistics\n",
    "\n",
    "from country_bounding_boxes import (\n",
    "      country_subunits_containing_point,\n",
    "      country_subunits_by_iso_code\n",
    "    )\n",
    "\n",
    "\n",
    "# function to restrict cubes on bounding box\n",
    "\n",
    "def cube_from_bounding_box (cube, bounding_box):\n",
    "    return cube.intersection(longitude=(bounding_box[0],bounding_box[2])).intersection(latitude=(bounding_box[1],bounding_box[3]))\n",
    "\n",
    "country = 'US'\n",
    "print([c.name for c in country_subunits_by_iso_code(country)])\n",
    "print([c.bbox for c in country_subunits_by_iso_code(country)])\n",
    "contingentUS_box = [c.bbox for c in country_subunits_by_iso_code(country)][3] # get 3rd box since hawaii not interesting\n",
    "\n",
    "\n",
    "# loop to create list of country limited cubes\n",
    "us_cubes = iris.cube.CubeList()\n",
    "for i_cube in tqdm(cubelist):\n",
    "    us_cubes.append(cube_from_bounding_box(i_cube,contingentUS_box))\n",
    "\n",
    "country = 'CN'\n",
    "print([c.name for c in country_subunits_by_iso_code(country)])\n",
    "print([c.bbox for c in country_subunits_by_iso_code(country)])\n",
    "china_box = [c.bbox for c in country_subunits_by_iso_code(country)][1] # get 3rd box since hawaii not interesting\n",
    "\n",
    "# loop to create list of country limited cubes\n",
    "china_cubes = iris.cube.CubeList()\n",
    "for i_cube in tqdm(cubelist):\n",
    "    china_cubes.append(cube_from_bounding_box(i_cube,china_box))\n",
    "\n",
    "country = 'DE'\n",
    "print([c.name for c in country_subunits_by_iso_code(country)])\n",
    "print([c.bbox for c in country_subunits_by_iso_code(country)])\n",
    "germany_box = [c.bbox for c in country_subunits_by_iso_code(country)][0] # get 3rd box since hawaii not interesting\n",
    "\n",
    "# loop to create list of country limited cubes\n",
    "germany_cubes = iris.cube.CubeList()\n",
    "for i_cube in tqdm(cubelist):\n",
    "    germany_cubes.append(cube_from_bounding_box(i_cube,germany_box))"
   ]
  },
  {
   "cell_type": "code",
   "execution_count": 10,
   "metadata": {
    "pycharm": {
     "is_executing": false,
     "name": "#%%\n"
    }
   },
   "outputs": [
    {
     "name": "stderr",
     "output_type": "stream",
     "text": [
      "\r",
      "  0%|          | 0/9 [00:00<?, ?it/s]"
     ]
    },
    {
     "name": "stdout",
     "output_type": "stream",
     "text": [
      "add season coordinate\n"
     ]
    },
    {
     "name": "stderr",
     "output_type": "stream",
     "text": [
      "100%|██████████| 9/9 [00:15<00:00,  1.73s/it]\n"
     ]
    }
   ],
   "source": [
    "analysis_cubelist = us_cubes   \n",
    "\n",
    "# loop to add assistant dimensions\n",
    "print(\"add season coordinate\")\n",
    "for i_cube in tqdm(analysis_cubelist):\n",
    "    iris.coord_categorisation.add_season(i_cube,'time')\n",
    "    iris.coord_categorisation.add_season_year(i_cube, 'time', name='season_year')\n",
    "\n",
    "    "
   ]
  },
  {
   "cell_type": "markdown",
   "metadata": {},
   "source": [
    "Analysis for winter season:"
   ]
  },
  {
   "cell_type": "code",
   "execution_count": null,
   "metadata": {
    "pycharm": {
     "name": "#%%\n"
    }
   },
   "outputs": [],
   "source": [
    "# plot country limited data as a test of county boundaries\n",
    "i_cube = us_cubes[0]\n",
    "qplt.pcolormesh(i_cube.collapsed('time',iris.analysis.MEAN))\n",
    "states_provinces = cartopy.feature.NaturalEarthFeature(\n",
    "    category='cultural',\n",
    "    name='admin_1_states_provinces_lines',\n",
    "    scale='50m',\n",
    "    facecolor='none')\n",
    "plt.gca().add_feature(cartopy.feature.BORDERS.with_scale('50m'))\n",
    "plt.gca().add_feature(cartopy.feature.STATES.with_scale('50m'))\n",
    "plt.show()"
   ]
  },
  {
   "cell_type": "code",
   "execution_count": 134,
   "metadata": {
    "pycharm": {
     "is_executing": false,
     "name": "#%%    \n"
    }
   },
   "outputs": [
    {
     "name": "stderr",
     "output_type": "stream",
     "text": [
      "100%|██████████| 27/27 [00:01<00:00, 14.97it/s]\n"
     ]
    },
    {
     "name": "stdout",
     "output_type": "stream",
     "text": [
      "filter for winter season\n"
     ]
    }
   ],
   "source": [
    "# loop to plot country limited data graphs\n",
    "\n",
    "print(\"filter for winter season\")\n",
    "winter_cubelist = iris.cube.CubeList()\n",
    "for i_cube in tqdm(analysis_cubelist):\n",
    "    winter_constr = iris.Constraint(season=\"djf\")\n",
    "    winter_cubelist.append(i_cube.extract(winter_constr))"
   ]
  },
  {
   "cell_type": "code",
   "execution_count": null,
   "metadata": {
    "pycharm": {
     "is_executing": true,
     "name": "#%%\n"
    }
   },
   "outputs": [
    {
     "name": "stderr",
     "output_type": "stream",
     "text": [
      " 11%|█         | 3/27 [04:22<37:12, 93.03s/it] "
     ]
    },
    {
     "name": "stdout",
     "output_type": "stream",
     "text": [
      "plot percentiles\n",
      "percentile: 99.9\n"
     ]
    },
    {
     "data": {
      "image/png": "[encoded data removed]",
      "text/plain": [
       "<Figure size 432x288 with 1 Axes>"
      ]
     },
     "metadata": {
      "needs_background": "light"
     },
     "output_type": "display_data"
    },
    {
     "data": {
      "image/png": "[encoded data removed]",
      "text/plain": [
       "<Figure size 432x288 with 1 Axes>"
      ]
     },
     "metadata": {
      "needs_background": "light"
     },
     "output_type": "display_data"
    },
    {
     "data": {
      "image/png": "[encoded data removed]",
      "text/plain": [
       "<Figure size 432x288 with 1 Axes>"
      ]
     },
     "metadata": {
      "needs_background": "light"
     },
     "output_type": "display_data"
    }
   ],
   "source": [
    "print(\"plot percentiles\")\n",
    "percentile = 99.9\n",
    "print(\"percentile: \"+str(percentile))\n",
    "for i_cube in tqdm(winter_cubelist):\n",
    "    #qplt.plot(i_cube.collapsed(('latitude',\"longitude\"),iris.analysis.PERCENTILE,percent=[percentile]))\n",
    "    aggregated = i_cube.aggregated_by(['season', 'season_year'],iris.analysis.MEAN)\n",
    "    qplt.plot(i_cube.collapsed(('latitude',\"longitude\"),iris.analysis.PERCENTILE,percent=[percentile]))\n",
    "    plt.show()"
   ]
  },
  {
   "cell_type": "code",
   "execution_count": null,
   "metadata": {
    "collapsed": true,
    "pycharm": {
     "is_executing": true,
     "name": "#%%\n"
    }
   },
   "outputs": [],
   "source": [
    "print(\"plot percentiles\")\n",
    "percentile = 99\n",
    "print(\"percentile: \"+str(percentile))\n",
    "for i_cube in tqdm(winter_cubelist):\n",
    "    #qplt.plot(i_cube.collapsed(('latitude',\"longitude\"),iris.analysis.PERCENTILE,percent=[percentile]))\n",
    "    aggregated = i_cube.aggregated_by(['season', 'season_year'],iris.analysis.MEAN)\n",
    "    qplt.plot(i_cube.collapsed(('latitude',\"longitude\"),iris.analysis.PERCENTILE,percent=[percentile]))\n",
    "    plt.show()\n",
    "    "
   ]
  },
  {
   "cell_type": "code",
   "execution_count": null,
   "metadata": {
    "collapsed": true,
    "pycharm": {
     "is_executing": true,
     "name": "#%%\n"
    }
   },
   "outputs": [],
   "source": [
    "print(\"plot percentiles\")\n",
    "percentile = 95\n",
    "print(\"percentile: \"+str(percentile))\n",
    "for i_cube in tqdm(winter_cubelist):\n",
    "    #qplt.plot(i_cube.collapsed(('latitude',\"longitude\"),iris.analysis.PERCENTILE,percent=[percentile]))\n",
    "    aggregated = i_cube.aggregated_by(['season', 'season_year'],iris.analysis.MEAN)\n",
    "    qplt.plot(i_cube.collapsed(('latitude',\"longitude\"),iris.analysis.PERCENTILE,percent=[percentile]))\n",
    "    plt.show()"
   ]
  },
  {
   "cell_type": "code",
   "execution_count": null,
   "metadata": {
    "collapsed": true,
    "pycharm": {
     "is_executing": true,
     "name": "#%%\n"
    }
   },
   "outputs": [],
   "source": [
    "print(\"Plot mean\")    \n",
    "# loop to plot country limited data graphs\n",
    "for i_cube in tqdm(winter_cubelist):\n",
    "    #qplt.plot(i_cube.collapsed(('latitude',\"longitude\"),iris.analysis.MEAN))\n",
    "    aggregated = i_cube.aggregated_by(['season', 'season_year'],iris.analysis.MEAN)\n",
    "    collapsed = aggregated.collapsed(('latitude',\"longitude\"),iris.analysis.MEAN)\n",
    "    quadratic_fit(collapsed)\n",
    "    plt.show()\n",
    "\n"
   ]
  }
 ],
 "metadata": {
  "kernelspec": {
   "display_name": "Python (my_root)",
   "language": "python",
   "name": "my_root"
  },
  "language_info": {
   "codemirror_mode": {
    "name": "ipython",
    "version": 3
   },
   "file_extension": ".py",
   "mimetype": "text/x-python",
   "name": "python",
   "nbconvert_exporter": "python",
   "pygments_lexer": "ipython3",
   "version": "3.6.5"
  },
  "pycharm": {
   "stem_cell": {
    "cell_type": "raw",
    "metadata": {
     "collapsed": false
    },
    "source": []
   }
  }
 },
 "nbformat": 4,
 "nbformat_minor": 1
}
