{
 "cells": [
  {
   "cell_type": "markdown",
   "source": [
    "### Notebook to analyse output of snow_processing\n",
    "#### Imports"
   ],
   "metadata": {
    "collapsed": false
   }
  },
  {
   "cell_type": "code",
   "execution_count": 2,
   "outputs": [],
   "source": [
    "import netCDF4\n",
    "import pandas\n",
    "import numpy as np\n",
    "from pandas import DataFrame as df\n",
    "import xarray as xr"
   ],
   "metadata": {
    "collapsed": false,
    "pycharm": {
     "name": "#%%\n",
     "is_executing": false
    }
   }
  },
  {
   "cell_type": "markdown",
   "source": [
    "Open *.nc file and print initial info:"
   ],
   "metadata": {
    "collapsed": false,
    "pycharm": {
     "name": "#%% md\n"
    }
   }
  },
  {
   "cell_type": "code",
   "execution_count": 3,
   "outputs": [],
   "source": [
    "f = netCDF4.Dataset('/home/quante/CLionProjects/SnowProcessing/output.nc', 'r')\n"
   ],
   "metadata": {
    "collapsed": false,
    "pycharm": {
     "name": "#%%\n",
     "is_executing": false
    }
   }
  },
  {
   "cell_type": "markdown",
   "source": [
    "*Idea: Extreme events are classified by two-dimensions: duration and daily snow depth increase.* \n",
    "\n",
    "First primitive binning of data into this categories:"
   ],
   "metadata": {
    "collapsed": false
   }
  },
  {
   "cell_type": "code",
   "execution_count": 4,
   "outputs": [],
   "source": [
    "# read variables - use xarray to import into pandas dataframe\n",
    "snow_data = xr.open_dataset('/home/quante/CLionProjects/SnowProcessing/output.nc').to_dataframe()\n"
   ],
   "metadata": {
    "collapsed": false,
    "pycharm": {
     "name": "#%%\n",
     "is_executing": false
    }
   }
  },
  {
   "cell_type": "code",
   "execution_count": 5,
   "outputs": [
    {
     "data": {
      "text/plain": "       approx_fresh_daily_snow_height  approx_accumulated_snow_height  \\\ncount                    1.135296e+08                    1.135296e+08   \nmean                     4.284119e+00                    1.948704e+03   \nstd                      1.490818e+01                    3.330478e+03   \nmin                      0.000000e+00                    0.000000e+00   \n50%                      0.000000e+00                    0.000000e+00   \n90%                      1.079702e+01                    9.195049e+03   \n95%                      2.486296e+01                    1.000000e+04   \n99.5%                    9.601066e+01                    1.000000e+04   \n99.9%                    1.684084e+02                    1.000000e+04   \nmax                      1.047878e+03                    1.000000e+04   \n\n       approx_change_snow_height  \ncount               1.135296e+08  \nmean                1.317356e+00  \nstd                 1.097902e+01  \nmin                -5.649341e+01  \n50%                 0.000000e+00  \n90%                 3.125000e+00  \n95%                 1.076123e+01  \n99.5%               6.779395e+01  \n99.9%               1.281437e+02  \nmax                 1.036643e+03  ",
      "text/html": "<div>\n<style scoped>\n    .dataframe tbody tr th:only-of-type {\n        vertical-align: middle;\n    }\n\n    .dataframe tbody tr th {\n        vertical-align: top;\n    }\n\n    .dataframe thead th {\n        text-align: right;\n    }\n</style>\n<table border=\"1\" class=\"dataframe\">\n  <thead>\n    <tr style=\"text-align: right;\">\n      <th></th>\n      <th>approx_fresh_daily_snow_height</th>\n      <th>approx_accumulated_snow_height</th>\n      <th>approx_change_snow_height</th>\n    </tr>\n  </thead>\n  <tbody>\n    <tr>\n      <th>count</th>\n      <td>1.135296e+08</td>\n      <td>1.135296e+08</td>\n      <td>1.135296e+08</td>\n    </tr>\n    <tr>\n      <th>mean</th>\n      <td>4.284119e+00</td>\n      <td>1.948704e+03</td>\n      <td>1.317356e+00</td>\n    </tr>\n    <tr>\n      <th>std</th>\n      <td>1.490818e+01</td>\n      <td>3.330478e+03</td>\n      <td>1.097902e+01</td>\n    </tr>\n    <tr>\n      <th>min</th>\n      <td>0.000000e+00</td>\n      <td>0.000000e+00</td>\n      <td>-5.649341e+01</td>\n    </tr>\n    <tr>\n      <th>50%</th>\n      <td>0.000000e+00</td>\n      <td>0.000000e+00</td>\n      <td>0.000000e+00</td>\n    </tr>\n    <tr>\n      <th>90%</th>\n      <td>1.079702e+01</td>\n      <td>9.195049e+03</td>\n      <td>3.125000e+00</td>\n    </tr>\n    <tr>\n      <th>95%</th>\n      <td>2.486296e+01</td>\n      <td>1.000000e+04</td>\n      <td>1.076123e+01</td>\n    </tr>\n    <tr>\n      <th>99.5%</th>\n      <td>9.601066e+01</td>\n      <td>1.000000e+04</td>\n      <td>6.779395e+01</td>\n    </tr>\n    <tr>\n      <th>99.9%</th>\n      <td>1.684084e+02</td>\n      <td>1.000000e+04</td>\n      <td>1.281437e+02</td>\n    </tr>\n    <tr>\n      <th>max</th>\n      <td>1.047878e+03</td>\n      <td>1.000000e+04</td>\n      <td>1.036643e+03</td>\n    </tr>\n  </tbody>\n</table>\n</div>"
     },
     "metadata": {},
     "output_type": "execute_result",
     "execution_count": 5
    }
   ],
   "source": [
    "# get summary statistics\n",
    "snow_data.describe([0.90,0.95,0.995,0.999])"
   ],
   "metadata": {
    "collapsed": false,
    "pycharm": {
     "name": "#%%\n",
     "is_executing": false
    }
   }
  },
  {
   "cell_type": "code",
   "execution_count": 6,
   "outputs": [],
   "source": [
    "# define individual variables\n",
    "approx_fresh_daily_snow_height = snow_data.get(\"approx_fresh_daily_snow_height\")\n",
    "\n",
    "approx_accumulated_snow_height\t = snow_data.get(\"approx_accumulated_snow_height\")\n",
    "\n",
    "approx_change_snow_height = snow_data.get(\"approx_change_snow_height\")"
   ],
   "metadata": {
    "collapsed": false,
    "pycharm": {
     "name": "#%%\n",
     "is_executing": false
    }
   }
  },
  {
   "cell_type": "code",
   "execution_count": 11,
   "outputs": [],
   "source": [
    "# define depth thresholds\n",
    "depth_thresholds = np.arange(50,501,50)\n",
    "approx_fresh_daily_snow_height_depth_threshold = {}   "
   ],
   "metadata": {
    "collapsed": false,
    "pycharm": {
     "name": "#%%\n",
     "is_executing": false
    }
   }
  },
  {
   "cell_type": "code",
   "execution_count": 12,
   "outputs": [],
   "source": [
    "# check if thresholds are exceeded\n",
    "for i_threshold in depth_thresholds:\n",
    "\n",
    "    approx_fresh_daily_snow_height_depth_threshold [i_threshold] = approx_fresh_daily_snow_height>i_threshold\n",
    "    "
   ],
   "metadata": {
    "collapsed": false,
    "pycharm": {
     "name": "#%%\n",
     "is_executing": false
    }
   }
  },
  {
   "cell_type": "code",
   "execution_count": null,
   "outputs": [],
   "source": [
    "#TODO: count exceedance duration for each threshold\n"
   ],
   "metadata": {
    "collapsed": false,
    "pycharm": {
     "name": "#%%\n"
    }
   }
  },
  {
   "cell_type": "code",
   "execution_count": null,
   "outputs": [],
   "source": [
    "# define time period thresholds\n",
    "duration_thresholds = np.arange(1,6,1)\n",
    "approx_fresh_daily_snow_height_duration_threshold = {}   "
   ],
   "metadata": {
    "collapsed": false,
    "pycharm": {
     "name": "#%%\n"
    }
   }
  },
  {
   "cell_type": "code",
   "execution_count": null,
   "outputs": [],
   "source": [
    "# check if thresholds are exceeded\n",
    "for i_threshold in duration_thresholds:\n",
    "\n",
    "    approx_fresh_daily_snow_height_duration_threshold [i_threshold] = approx_fresh_daily_snow_height>i_threshold\n",
    "    "
   ],
   "metadata": {
    "collapsed": false,
    "pycharm": {
     "name": "#%%\n"
    }
   }
  },
  {
   "cell_type": "code",
   "execution_count": null,
   "outputs": [],
   "source": [
    "#TODO: create localized statistics which depth thresholds are exceeded how long on average, visualize\n",
    "\n"
   ],
   "metadata": {
    "collapsed": false,
    "pycharm": {
     "name": "#%%\n"
    }
   }
  }
 ],
 "metadata": {
  "kernelspec": {
   "display_name": "Python 3",
   "language": "python",
   "name": "python3"
  },
  "language_info": {
   "codemirror_mode": {
    "name": "ipython",
    "version": 2
   },
   "file_extension": ".py",
   "mimetype": "text/x-python",
   "name": "python",
   "nbconvert_exporter": "python",
   "pygments_lexer": "ipython2",
   "version": "2.7.6"
  },
  "pycharm": {
   "stem_cell": {
    "cell_type": "raw",
    "source": [],
    "metadata": {
     "collapsed": false
    }
   }
  }
 },
 "nbformat": 4,
 "nbformat_minor": 0
}